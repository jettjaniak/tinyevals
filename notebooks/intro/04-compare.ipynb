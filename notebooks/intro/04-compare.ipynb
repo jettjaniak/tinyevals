{
 "cells": [
  {
   "cell_type": "code",
   "execution_count": 4,
   "metadata": {},
   "outputs": [
    {
     "name": "stderr",
     "output_type": "stream",
     "text": [
      "/Users/jett/Documents/jett/tinyevals/.venv/lib/python3.10/site-packages/huggingface_hub/repocard.py:105: UserWarning: Repo card metadata block was not found. Setting CardData to empty.\n",
      "  warnings.warn(\"Repo card metadata block was not found. Setting CardData to empty.\")\n"
     ]
    },
    {
     "data": {
      "application/vnd.jupyter.widget-view+json": {
       "model_id": "71f33c1652764b8bac43828c5541b3db",
       "version_major": 2,
       "version_minor": 0
      },
      "text/plain": [
       "  0%|          | 0/10 [00:00<?, ?it/s]"
      ]
     },
     "metadata": {},
     "output_type": "display_data"
    }
   ],
   "source": [
    "import torch; torch.set_grad_enabled(False)\n",
    "from transformers import AutoTokenizer, AutoModelForCausalLM\n",
    "from utils import load_orig_ds_txt, tokenize, get_correct_probs, probs_to_colors, vis_tokens\n",
    "from IPython.display import HTML\n",
    "\n",
    "model_a_name = \"roneneldan/TinyStories-1M\"\n",
    "model_b_name = \"roneneldan/TinyStories-3M\"\n",
    "tokenizer = AutoTokenizer.from_pretrained(\"roneneldan/TinyStories-1M\")\n",
    "model_a = AutoModelForCausalLM.from_pretrained(model_a_name)\n",
    "model_b = AutoModelForCausalLM.from_pretrained(model_b_name)\n",
    "ds_txt = load_orig_ds_txt(\"validation[:10]\")\n",
    "ds_tok = [tokenize(tokenizer, txt) for txt in ds_txt]"
   ]
  },
  {
   "cell_type": "code",
   "execution_count": 5,
   "metadata": {},
   "outputs": [],
   "source": [
    "def to_tok_prob_str(tok, prob_a, prob_b):\n",
    "    tok_str = tokenizer.decode(tok).replace(\" \", \"&nbsp;\").replace(\"\\n\", r\"\\n\")\n",
    "    prob_a_str = f\"{prob_a:.2%}\"\n",
    "    prob_b_str = f\"{prob_b:.2%}\"\n",
    "    return f\"{prob_a_str:>6} → {prob_b_str:>6} |{tok_str}|\"\n",
    "\n",
    "def compare_models(tokens):\n",
    "    probs_a = get_correct_probs(model_a, tokens)\n",
    "    probs_b = get_correct_probs(model_b, tokens)\n",
    "    probs_above = torch.maximum(probs_b - probs_a, torch.zeros_like(probs_a))\n",
    "    colors = probs_to_colors(probs_above)\n",
    "    hover_datas = [{}]\n",
    "    for i in range(1, len(tokens)):\n",
    "        tok = tokens[i]\n",
    "        prob_a = probs_a[i-1]\n",
    "        prob_b = probs_b[i-1]\n",
    "        hover_datas.append(dict(next=to_tok_prob_str(tok, prob_a, prob_b)))\n",
    "    display(HTML(vis_tokens(tokenizer, tokens, colors, hover_datas)))"
   ]
  },
  {
   "cell_type": "code",
   "execution_count": 11,
   "metadata": {},
   "outputs": [
    {
     "data": {
      "text/html": [
       "<style>.token { border: 1px solid #888; display: inline-block; font-family: monospace; font-size: 14px; color: black; background-color: white; margin: 1px 0px 1px 1px; padding: 0px 1px 1px 1px; } #hover_info { font-family: monospace }</style>\n",
       "<script>\n",
       "var token_divs = document.querySelectorAll('.token');\n",
       "var hover_info = document.getElementById('hover_info');\n",
       "\n",
       "token_divs.forEach(function(token_div) {\n",
       "    token_div.addEventListener('mouseover', function(e) {\n",
       "    \n",
       "        hover_info.innerHTML = \"\"\n",
       "        for( var d in this.dataset) {\n",
       "            hover_info.innerHTML += \"<b>\" + d + \"</b> \";\n",
       "            hover_info.innerHTML += this.dataset[d] + \"<br>\";\n",
       "        }\n",
       "\n",
       "        var curr_height = hover_info.clientHeight;\n",
       "        var style_height_str = hover_info.style.minHeight;\n",
       "        var style_height = 0;\n",
       "        if (style_height_str != \"\") {\n",
       "            style_height = parseInt(style_height_str.slice(0, -2));\n",
       "        }\n",
       "        if (curr_height > style_height) {\n",
       "            hover_info.style.minHeight = curr_height + \"px\";\n",
       "        }\n",
       "\n",
       "    });\n",
       "\n",
       "    token_div.addEventListener('mouseout', function(e) {\n",
       "        hover_info.innerHTML = \"\"\n",
       "    });\n",
       "});\n",
       "</script>\n",
       "<div class='token' style='background-color: white'><|endoftext|></div><div class='token' style='background-color: rgb(255, 254, 254)' data-next='&nbsp;0.00%&nbsp;→&nbsp;&nbsp;0.00%&nbsp;|Once|'>Once</div><div class='token' style='background-color: rgb(255, 254, 254)' data-next='99.14%&nbsp;→&nbsp;99.46%&nbsp;|&nbsp;upon|'>&nbsp;upon</div><div class='token' style='background-color: rgb(255, 254, 254)' data-next='99.96%&nbsp;→&nbsp;99.98%&nbsp;|&nbsp;a|'>&nbsp;a</div><div class='token' style='background-color: rgb(255, 255, 255)' data-next='99.97%&nbsp;→&nbsp;99.94%&nbsp;|&nbsp;time|'>&nbsp;time</div><div class='token' style='background-color: rgb(255, 254, 254)' data-next='99.76%&nbsp;→&nbsp;99.84%&nbsp;|,|'>,</div><div class='token' style='background-color: rgb(255, 255, 255)' data-next='95.57%&nbsp;→&nbsp;84.06%&nbsp;|&nbsp;there|'>&nbsp;there</div><div class='token' style='background-color: rgb(255, 254, 254)' data-next='98.77%&nbsp;→&nbsp;99.71%&nbsp;|&nbsp;was|'>&nbsp;was</div><div class='token' style='background-color: rgb(255, 255, 255)' data-next='98.91%&nbsp;→&nbsp;98.88%&nbsp;|&nbsp;a|'>&nbsp;a</div><div class='token' style='background-color: rgb(255, 255, 255)' data-next='&nbsp;1.16%&nbsp;→&nbsp;&nbsp;0.75%&nbsp;|&nbsp;kind|'>&nbsp;kind</div><div class='token' style='background-color: rgb(255, 255, 255)' data-next='&nbsp;3.09%&nbsp;→&nbsp;&nbsp;2.92%&nbsp;|&nbsp;farmer|'>&nbsp;farmer</div><div class='token' style='background-color: rgb(255, 255, 255)' data-next='28.16%&nbsp;→&nbsp;27.77%&nbsp;|.|'>.</div><div class='token' style='background-color: rgb(255, 252, 252)' data-next='95.25%&nbsp;→&nbsp;97.53%&nbsp;|&nbsp;He|'>&nbsp;He</div><div class='token' style='background-color: rgb(255, 215, 215)' data-next='50.30%&nbsp;→&nbsp;87.52%&nbsp;|&nbsp;had|'>&nbsp;had</div><div class='token' style='background-color: rgb(255, 255, 255)' data-next='88.69%&nbsp;→&nbsp;88.39%&nbsp;|&nbsp;a|'>&nbsp;a</div><div class='token' style='background-color: rgb(255, 225, 225)' data-next='47.74%&nbsp;→&nbsp;75.61%&nbsp;|&nbsp;big|'>&nbsp;big</div><div class='token' style='background-color: rgb(255, 253, 253)' data-next='&nbsp;0.32%&nbsp;→&nbsp;&nbsp;1.71%&nbsp;|&nbsp;cow|'>&nbsp;cow</div><div class='token' style='background-color: rgb(255, 245, 245)' data-next='&nbsp;4.72%&nbsp;→&nbsp;13.93%&nbsp;|.|'>.</div><div class='token' style='background-color: rgb(255, 209, 209)' data-next='44.68%&nbsp;→&nbsp;88.26%&nbsp;|&nbsp;The|'>&nbsp;The</div><div class='token' style='background-color: rgb(255, 220, 220)' data-next='61.05%&nbsp;→&nbsp;93.96%&nbsp;|&nbsp;cow|'>&nbsp;cow</div><div class='token' style='background-color: rgb(255, 228, 228)' data-next='53.06%&nbsp;→&nbsp;77.90%&nbsp;|&nbsp;was|'>&nbsp;was</div><div class='token' style='background-color: rgb(255, 254, 254)' data-next='&nbsp;0.23%&nbsp;→&nbsp;&nbsp;0.33%&nbsp;|&nbsp;sad|'>&nbsp;sad</div><div class='token' style='background-color: rgb(255, 245, 245)' data-next='&nbsp;2.61%&nbsp;→&nbsp;11.84%&nbsp;|.|'>.</div><div class='token' style='background-color: rgb(255, 196, 196)' data-next='&nbsp;8.78%&nbsp;→&nbsp;64.59%&nbsp;|&nbsp;The|'>&nbsp;The</div><div class='token' style='background-color: rgb(255, 249, 249)' data-next='81.83%&nbsp;→&nbsp;87.28%&nbsp;|&nbsp;farmer|'>&nbsp;farmer</div><div class='token' style='background-color: rgb(255, 255, 255)' data-next='&nbsp;2.66%&nbsp;→&nbsp;&nbsp;1.49%&nbsp;|&nbsp;did|'>&nbsp;did</div><div class='token' style='background-color: rgb(255, 254, 254)' data-next='99.37%&nbsp;→&nbsp;99.52%&nbsp;|&nbsp;not|'>&nbsp;not</div><div class='token' style='background-color: rgb(255, 233, 233)' data-next='&nbsp;8.58%&nbsp;→&nbsp;28.93%&nbsp;|&nbsp;know|'>&nbsp;know</div><div class='token' style='background-color: rgb(255, 255, 255)' data-next='32.48%&nbsp;→&nbsp;10.08%&nbsp;|&nbsp;why|'>&nbsp;why</div><div class='token' style='background-color: rgb(255, 235, 235)' data-next='14.61%&nbsp;→&nbsp;33.19%&nbsp;|.|'>.</div><div class='token' style='background-color: rgb(255, 244, 244); user-select: none' data-next='19.37%&nbsp;→&nbsp;29.43%&nbsp;|\\n|'>\\n</div><br><div class='token' style='background-color: rgb(255, 254, 254); user-select: none' data-next='99.86%&nbsp;→&nbsp;99.99%&nbsp;|\\n|'>\\n</div><br><div class='token' style='background-color: rgb(255, 250, 250)' data-next='90.95%&nbsp;→&nbsp;94.95%&nbsp;|One|'>One</div><div class='token' style='background-color: rgb(255, 255, 255)' data-next='98.74%&nbsp;→&nbsp;98.70%&nbsp;|&nbsp;day|'>&nbsp;day</div><div class='token' style='background-color: rgb(255, 254, 254)' data-next='99.50%&nbsp;→&nbsp;99.99%&nbsp;|,|'>,</div><div class='token' style='background-color: rgb(255, 255, 255)' data-next='33.16%&nbsp;→&nbsp;17.12%&nbsp;|&nbsp;a|'>&nbsp;a</div><div class='token' style='background-color: rgb(255, 247, 247)' data-next='43.39%&nbsp;→&nbsp;50.62%&nbsp;|&nbsp;little|'>&nbsp;little</div><div class='token' style='background-color: rgb(255, 255, 255)' data-next='37.01%&nbsp;→&nbsp;18.57%&nbsp;|&nbsp;boy|'>&nbsp;boy</div><div class='token' style='background-color: rgb(255, 249, 249)' data-next='69.57%&nbsp;→&nbsp;75.06%&nbsp;|&nbsp;came|'>&nbsp;came</div><div class='token' style='background-color: rgb(255, 250, 250)' data-next='93.40%&nbsp;→&nbsp;97.47%&nbsp;|&nbsp;to|'>&nbsp;to</div><div class='token' style='background-color: rgb(255, 235, 235)' data-next='79.76%&nbsp;→&nbsp;97.95%&nbsp;|&nbsp;the|'>&nbsp;the</div><div class='token' style='background-color: rgb(255, 253, 253)' data-next='62.76%&nbsp;→&nbsp;63.99%&nbsp;|&nbsp;farm|'>&nbsp;farm</div><div class='token' style='background-color: rgb(255, 254, 254)' data-next='98.91%&nbsp;→&nbsp;99.34%&nbsp;|.|'>.</div><div class='token' style='background-color: rgb(255, 255, 255)' data-next='55.40%&nbsp;→&nbsp;49.48%&nbsp;|&nbsp;He|'>&nbsp;He</div><div class='token' style='background-color: rgb(255, 255, 255)' data-next='78.00%&nbsp;→&nbsp;76.74%&nbsp;|&nbsp;saw|'>&nbsp;saw</div><div class='token' style='background-color: rgb(255, 251, 251)' data-next='96.49%&nbsp;→&nbsp;99.77%&nbsp;|&nbsp;the|'>&nbsp;the</div><div class='token' style='background-color: rgb(255, 248, 248)' data-next='&nbsp;0.30%&nbsp;→&nbsp;&nbsp;6.33%&nbsp;|&nbsp;sad|'>&nbsp;sad</div><div class='token' style='background-color: rgb(255, 188, 188)' data-next='31.86%&nbsp;→&nbsp;94.80%&nbsp;|&nbsp;cow|'>&nbsp;cow</div><div class='token' style='background-color: rgb(255, 211, 211)' data-next='42.42%&nbsp;→&nbsp;83.88%&nbsp;|.|'>.</div><div class='token' style='background-color: rgb(255, 245, 245)' data-next='84.09%&nbsp;→&nbsp;93.01%&nbsp;|&nbsp;The|'>&nbsp;The</div><div class='token' style='background-color: rgb(255, 193, 193)' data-next='&nbsp;6.76%&nbsp;→&nbsp;65.18%&nbsp;|&nbsp;boy|'>&nbsp;boy</div><div class='token' style='background-color: rgb(255, 254, 254)' data-next='&nbsp;0.02%&nbsp;→&nbsp;&nbsp;0.05%&nbsp;|&nbsp;kne|'>&nbsp;kne</div><div class='token' style='background-color: rgb(255, 249, 249)' data-next='94.02%&nbsp;→&nbsp;99.65%&nbsp;|eled|'>eled</div><div class='token' style='background-color: rgb(255, 248, 248)' data-next='84.76%&nbsp;→&nbsp;90.55%&nbsp;|&nbsp;down|'>&nbsp;down</div><div class='token' style='background-color: rgb(255, 245, 245)' data-next='12.34%&nbsp;→&nbsp;21.33%&nbsp;|&nbsp;to|'>&nbsp;to</div><div class='token' style='background-color: rgb(255, 243, 243)' data-next='&nbsp;7.88%&nbsp;→&nbsp;18.90%&nbsp;|&nbsp;talk|'>&nbsp;talk</div><div class='token' style='background-color: rgb(255, 235, 235)' data-next='78.26%&nbsp;→&nbsp;96.76%&nbsp;|&nbsp;to|'>&nbsp;to</div><div class='token' style='background-color: rgb(255, 195, 195)' data-next='42.94%&nbsp;→&nbsp;99.48%&nbsp;|&nbsp;the|'>&nbsp;the</div><div class='token' style='background-color: rgb(255, 224, 224)' data-next='69.47%&nbsp;→&nbsp;98.39%&nbsp;|&nbsp;cow|'>&nbsp;cow</div><div class='token' style='background-color: rgb(255, 249, 249)' data-next='94.13%&nbsp;→&nbsp;99.83%&nbsp;|.|'>.</div><div class='token' style='background-color: rgb(255, 255, 255)' data-next='10.24%&nbsp;→&nbsp;&nbsp;9.09%&nbsp;|&nbsp;\"|'>&nbsp;\"</div><div class='token' style='background-color: rgb(255, 208, 208)' data-next='25.16%&nbsp;→&nbsp;69.73%&nbsp;|Why|'>Why</div><div class='token' style='background-color: rgb(255, 255, 255)' data-next='84.60%&nbsp;→&nbsp;62.39%&nbsp;|&nbsp;are|'>&nbsp;are</div><div class='token' style='background-color: rgb(255, 255, 255)' data-next='99.53%&nbsp;→&nbsp;99.27%&nbsp;|&nbsp;you|'>&nbsp;you</div><div class='token' style='background-color: rgb(255, 225, 225)' data-next='66.22%&nbsp;→&nbsp;94.35%&nbsp;|&nbsp;sad|'>&nbsp;sad</div><div class='token' style='background-color: rgb(255, 244, 244)' data-next='&nbsp;6.51%&nbsp;→&nbsp;16.71%&nbsp;|,|'>,</div><div class='token' style='background-color: rgb(255, 216, 216)' data-next='43.29%&nbsp;→&nbsp;80.36%&nbsp;|&nbsp;cow|'>&nbsp;cow</div><div class='token' style='background-color: rgb(255, 251, 251)' data-next='96.07%&nbsp;→&nbsp;99.58%&nbsp;|?\"|'>?\"</div><div class='token' style='background-color: rgb(255, 255, 255)' data-next='47.62%&nbsp;→&nbsp;34.88%&nbsp;|&nbsp;he|'>&nbsp;he</div><div class='token' style='background-color: rgb(255, 252, 252)' data-next='96.94%&nbsp;→&nbsp;99.46%&nbsp;|&nbsp;asked|'>&nbsp;asked</div><div class='token' style='background-color: rgb(255, 245, 245)' data-next='90.30%&nbsp;→&nbsp;99.23%&nbsp;|.|'>.</div><div class='token' style='background-color: rgb(255, 255, 255)' data-next='59.64%&nbsp;→&nbsp;56.91%&nbsp;|&nbsp;The|'>&nbsp;The</div><div class='token' style='background-color: rgb(255, 210, 210)' data-next='56.99%&nbsp;→&nbsp;99.11%&nbsp;|&nbsp;cow|'>&nbsp;cow</div><div class='token' style='background-color: rgb(255, 245, 245)' data-next='20.60%&nbsp;→&nbsp;29.82%&nbsp;|&nbsp;said|'>&nbsp;said</div><div class='token' style='background-color: rgb(255, 251, 251)' data-next='88.14%&nbsp;→&nbsp;91.13%&nbsp;|,|'>,</div><div class='token' style='background-color: rgb(255, 255, 255)' data-next='99.97%&nbsp;→&nbsp;99.95%&nbsp;|&nbsp;\"|'>&nbsp;\"</div><div class='token' style='background-color: rgb(255, 248, 248)' data-next='89.63%&nbsp;→&nbsp;96.15%&nbsp;|I|'>I</div><div class='token' style='background-color: rgb(255, 231, 231)' data-next='38.15%&nbsp;→&nbsp;60.90%&nbsp;|&nbsp;am|'>&nbsp;am</div><div class='token' style='background-color: rgb(255, 246, 246)' data-next='&nbsp;6.74%&nbsp;→&nbsp;15.07%&nbsp;|&nbsp;lonely|'>&nbsp;lonely</div><div class='token' style='background-color: rgb(255, 212, 212)' data-next='37.74%&nbsp;→&nbsp;77.88%&nbsp;|.|'>.</div><div class='token' style='background-color: rgb(255, 255, 255)' data-next='74.06%&nbsp;→&nbsp;72.74%&nbsp;|&nbsp;I|'>&nbsp;I</div><div class='token' style='background-color: rgb(255, 255, 255)' data-next='13.79%&nbsp;→&nbsp;10.91%&nbsp;|&nbsp;want|'>&nbsp;want</div><div class='token' style='background-color: rgb(255, 241, 241)' data-next='&nbsp;9.54%&nbsp;→&nbsp;22.05%&nbsp;|&nbsp;a|'>&nbsp;a</div><div class='token' style='background-color: rgb(255, 235, 235)' data-next='80.36%&nbsp;→&nbsp;98.62%&nbsp;|&nbsp;friend|'>&nbsp;friend</div><div class='token' style='background-color: rgb(255, 247, 247)' data-next='52.94%&nbsp;→&nbsp;59.82%&nbsp;|.\"|'>.\"</div><div class='token' style='background-color: rgb(255, 234, 234); user-select: none' data-next='73.95%&nbsp;→&nbsp;93.37%&nbsp;|\\n|'>\\n</div><br><div class='token' style='background-color: rgb(255, 254, 254); user-select: none' data-next='99.99%&nbsp;→&nbsp;100.00%&nbsp;|\\n|'>\\n</div><br><div class='token' style='background-color: rgb(255, 254, 254)' data-next='98.57%&nbsp;→&nbsp;99.24%&nbsp;|The|'>The</div><div class='token' style='background-color: rgb(255, 255, 255)' data-next='&nbsp;1.67%&nbsp;→&nbsp;&nbsp;1.27%&nbsp;|&nbsp;kind|'>&nbsp;kind</div><div class='token' style='background-color: rgb(255, 252, 252)' data-next='91.09%&nbsp;→&nbsp;93.37%&nbsp;|&nbsp;farmer|'>&nbsp;farmer</div><div class='token' style='background-color: rgb(255, 252, 252)' data-next='&nbsp;1.14%&nbsp;→&nbsp;&nbsp;3.59%&nbsp;|&nbsp;heard|'>&nbsp;heard</div><div class='token' style='background-color: rgb(255, 233, 233)' data-next='76.14%&nbsp;→&nbsp;96.50%&nbsp;|&nbsp;the|'>&nbsp;the</div><div class='token' style='background-color: rgb(255, 255, 255)' data-next='10.79%&nbsp;→&nbsp;&nbsp;8.32%&nbsp;|&nbsp;cow|'>&nbsp;cow</div><div class='token' style='background-color: rgb(255, 242, 242)' data-next='&nbsp;9.80%&nbsp;→&nbsp;21.87%&nbsp;|.|'>.</div><div class='token' style='background-color: rgb(255, 244, 244)' data-next='80.16%&nbsp;→&nbsp;90.14%&nbsp;|&nbsp;He|'>&nbsp;He</div><div class='token' style='background-color: rgb(255, 247, 247)' data-next='&nbsp;3.10%&nbsp;→&nbsp;10.43%&nbsp;|&nbsp;wanted|'>&nbsp;wanted</div><div class='token' style='background-color: rgb(255, 254, 254)' data-next='95.47%&nbsp;→&nbsp;96.17%&nbsp;|&nbsp;to|'>&nbsp;to</div><div class='token' style='background-color: rgb(255, 221, 221)' data-next='60.59%&nbsp;→&nbsp;92.52%&nbsp;|&nbsp;help|'>&nbsp;help</div><div class='token' style='background-color: rgb(255, 255, 255)' data-next='44.88%&nbsp;→&nbsp;15.93%&nbsp;|.|'>.</div><div class='token' style='background-color: rgb(255, 250, 250)' data-next='25.36%&nbsp;→&nbsp;29.34%&nbsp;|&nbsp;So|'>&nbsp;So</div><div class='token' style='background-color: rgb(255, 248, 248)' data-next='90.79%&nbsp;→&nbsp;96.56%&nbsp;|,|'>,</div><div class='token' style='background-color: rgb(255, 240, 240)' data-next='61.72%&nbsp;→&nbsp;75.87%&nbsp;|&nbsp;he|'>&nbsp;he</div><div class='token' style='background-color: rgb(255, 255, 255)' data-next='&nbsp;2.14%&nbsp;→&nbsp;&nbsp;0.46%&nbsp;|&nbsp;got|'>&nbsp;got</div><div class='token' style='background-color: rgb(255, 254, 254)' data-next='&nbsp;0.09%&nbsp;→&nbsp;&nbsp;0.19%&nbsp;|&nbsp;another|'>&nbsp;another</div><div class='token' style='background-color: rgb(255, 197, 197)' data-next='28.61%&nbsp;→&nbsp;82.95%&nbsp;|&nbsp;cow|'>&nbsp;cow</div><div class='token' style='background-color: rgb(255, 245, 245)' data-next='&nbsp;2.70%&nbsp;→&nbsp;11.41%&nbsp;|&nbsp;to|'>&nbsp;to</div><div class='token' style='background-color: rgb(255, 254, 254)' data-next='&nbsp;0.15%&nbsp;→&nbsp;&nbsp;0.30%&nbsp;|&nbsp;be|'>&nbsp;be</div><div class='token' style='background-color: rgb(255, 255, 255)' data-next='&nbsp;2.99%&nbsp;→&nbsp;&nbsp;2.20%&nbsp;|&nbsp;friends|'>&nbsp;friends</div><div class='token' style='background-color: rgb(255, 167, 167)' data-next='&nbsp;1.65%&nbsp;→&nbsp;84.95%&nbsp;|&nbsp;with|'>&nbsp;with</div><div class='token' style='background-color: rgb(255, 218, 218)' data-next='11.21%&nbsp;→&nbsp;46.14%&nbsp;|&nbsp;the|'>&nbsp;the</div><div class='token' style='background-color: rgb(255, 238, 238)' data-next='&nbsp;0.36%&nbsp;→&nbsp;15.65%&nbsp;|&nbsp;sad|'>&nbsp;sad</div><div class='token' style='background-color: rgb(255, 238, 238)' data-next='79.70%&nbsp;→&nbsp;94.96%&nbsp;|&nbsp;cow|'>&nbsp;cow</div><div class='token' style='background-color: rgb(255, 254, 254)' data-next='99.17%&nbsp;→&nbsp;99.70%&nbsp;|.|'>.</div><div class='token' style='background-color: rgb(255, 233, 233)' data-next='60.69%&nbsp;→&nbsp;80.96%&nbsp;|&nbsp;The|'>&nbsp;The</div><div class='token' style='background-color: rgb(255, 252, 252)' data-next='&nbsp;1.49%&nbsp;→&nbsp;&nbsp;4.03%&nbsp;|&nbsp;sad|'>&nbsp;sad</div><div class='token' style='background-color: rgb(255, 228, 228)' data-next='73.69%&nbsp;→&nbsp;99.09%&nbsp;|&nbsp;cow|'>&nbsp;cow</div><div class='token' style='background-color: rgb(255, 203, 203)' data-next='38.35%&nbsp;→&nbsp;87.69%&nbsp;|&nbsp;was|'>&nbsp;was</div><div class='token' style='background-color: rgb(255, 255, 255)' data-next='62.00%&nbsp;→&nbsp;53.73%&nbsp;|&nbsp;happy|'>&nbsp;happy</div><div class='token' style='background-color: rgb(255, 240, 240)' data-next='&nbsp;0.46%&nbsp;→&nbsp;14.51%&nbsp;|&nbsp;now|'>&nbsp;now</div><div class='token' style='background-color: rgb(255, 253, 253)' data-next='97.36%&nbsp;→&nbsp;98.47%&nbsp;|.|'>.</div><div class='token' style='background-color: rgb(255, 255, 255)' data-next='35.68%&nbsp;→&nbsp;&nbsp;7.61%&nbsp;|&nbsp;They|'>&nbsp;They</div><div class='token' style='background-color: rgb(255, 255, 255)' data-next='52.95%&nbsp;→&nbsp;33.61%&nbsp;|&nbsp;played|'>&nbsp;played</div><div class='token' style='background-color: rgb(255, 255, 255)' data-next='86.03%&nbsp;→&nbsp;80.81%&nbsp;|&nbsp;together|'>&nbsp;together</div><div class='token' style='background-color: rgb(255, 235, 235)' data-next='15.36%&nbsp;→&nbsp;33.96%&nbsp;|&nbsp;every|'>&nbsp;every</div><div class='token' style='background-color: rgb(255, 254, 254)' data-next='99.52%&nbsp;→&nbsp;99.95%&nbsp;|&nbsp;day|'>&nbsp;day</div><div class='token' style='background-color: rgb(255, 247, 247)' data-next='90.67%&nbsp;→&nbsp;97.72%&nbsp;|.|'>.</div><div class='token' style='background-color: rgb(255, 253, 253)' data-next='11.51%&nbsp;→&nbsp;13.37%&nbsp;|&nbsp;And|'>&nbsp;And</div><div class='token' style='background-color: rgb(255, 223, 223)' data-next='27.21%&nbsp;→&nbsp;57.30%&nbsp;|&nbsp;the|'>&nbsp;the</div><div class='token' style='background-color: rgb(255, 255, 255)' data-next='&nbsp;8.22%&nbsp;→&nbsp;&nbsp;2.91%&nbsp;|&nbsp;kind|'>&nbsp;kind</div><div class='token' style='background-color: rgb(255, 255, 255)' data-next='84.50%&nbsp;→&nbsp;56.88%&nbsp;|&nbsp;farmer|'>&nbsp;farmer</div><div class='token' style='background-color: rgb(255, 246, 246)' data-next='&nbsp;3.29%&nbsp;→&nbsp;11.47%&nbsp;|,|'>,</div><div class='token' style='background-color: rgb(255, 245, 245)' data-next='85.78%&nbsp;→&nbsp;95.06%&nbsp;|&nbsp;the|'>&nbsp;the</div><div class='token' style='background-color: rgb(255, 206, 206)' data-next='&nbsp;6.55%&nbsp;→&nbsp;52.42%&nbsp;|&nbsp;little|'>&nbsp;little</div><div class='token' style='background-color: rgb(255, 236, 236)' data-next='80.31%&nbsp;→&nbsp;97.91%&nbsp;|&nbsp;boy|'>&nbsp;boy</div><div class='token' style='background-color: rgb(255, 243, 243)' data-next='88.77%&nbsp;→&nbsp;99.85%&nbsp;|,|'>,</div><div class='token' style='background-color: rgb(255, 240, 240)' data-next='81.69%&nbsp;→&nbsp;95.26%&nbsp;|&nbsp;and|'>&nbsp;and</div><div class='token' style='background-color: rgb(255, 255, 255)' data-next='93.66%&nbsp;→&nbsp;91.55%&nbsp;|&nbsp;the|'>&nbsp;the</div><div class='token' style='background-color: rgb(255, 255, 255)' data-next='&nbsp;0.04%&nbsp;→&nbsp;&nbsp;0.01%&nbsp;|&nbsp;two|'>&nbsp;two</div><div class='token' style='background-color: rgb(255, 213, 213)' data-next='28.36%&nbsp;→&nbsp;67.86%&nbsp;|&nbsp;cows|'>&nbsp;cows</div><div class='token' style='background-color: rgb(255, 255, 255)' data-next='&nbsp;2.97%&nbsp;→&nbsp;&nbsp;0.33%&nbsp;|&nbsp;all|'>&nbsp;all</div><div class='token' style='background-color: rgb(255, 182, 182)' data-next='22.46%&nbsp;→&nbsp;91.26%&nbsp;|&nbsp;lived|'>&nbsp;lived</div><div class='token' style='background-color: rgb(255, 231, 231)' data-next='75.69%&nbsp;→&nbsp;97.60%&nbsp;|&nbsp;happily|'>&nbsp;happily</div><div class='token' style='background-color: rgb(255, 238, 238)' data-next='74.44%&nbsp;→&nbsp;90.07%&nbsp;|&nbsp;ever|'>&nbsp;ever</div><div class='token' style='background-color: rgb(255, 254, 254)' data-next='99.39%&nbsp;→&nbsp;99.94%&nbsp;|&nbsp;after|'>&nbsp;after</div><div class='token' style='background-color: rgb(255, 254, 254)' data-next='99.07%&nbsp;→&nbsp;99.54%&nbsp;|.|'>.</div><div id='hover_info'></div>"
      ],
      "text/plain": [
       "<IPython.core.display.HTML object>"
      ]
     },
     "metadata": {},
     "output_type": "display_data"
    }
   ],
   "source": [
    "# try a few different examples\n",
    "# the JS hovering currently only works for one example at a time\n",
    "i = 4\n",
    "compare_models(ds_tok[i])"
   ]
  }
 ],
 "metadata": {
  "kernelspec": {
   "display_name": ".venv",
   "language": "python",
   "name": "python3"
  },
  "language_info": {
   "codemirror_mode": {
    "name": "ipython",
    "version": 3
   },
   "file_extension": ".py",
   "mimetype": "text/x-python",
   "name": "python",
   "nbconvert_exporter": "python",
   "pygments_lexer": "ipython3",
   "version": "3.10.13"
  }
 },
 "nbformat": 4,
 "nbformat_minor": 2
}
