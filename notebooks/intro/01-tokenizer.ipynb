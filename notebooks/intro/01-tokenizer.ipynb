{
 "cells": [
  {
   "cell_type": "code",
   "execution_count": 1,
   "metadata": {},
   "outputs": [],
   "source": [
    "from transformers import AutoTokenizer\n",
    "tokenizer = AutoTokenizer.from_pretrained(\"roneneldan/TinyStories-1M\")"
   ]
  },
  {
   "cell_type": "code",
   "execution_count": 2,
   "metadata": {},
   "outputs": [
    {
     "name": "stderr",
     "output_type": "stream",
     "text": [
      "/Users/jett/Documents/jett/tinyevals/.venv/lib/python3.10/site-packages/huggingface_hub/repocard.py:105: UserWarning: Repo card metadata block was not found. Setting CardData to empty.\n",
      "  warnings.warn(\"Repo card metadata block was not found. Setting CardData to empty.\")\n"
     ]
    },
    {
     "data": {
      "application/vnd.jupyter.widget-view+json": {
       "model_id": "3f084655ede14e2aa5d19cdf131b3582",
       "version_major": 2,
       "version_minor": 0
      },
      "text/plain": [
       "  0%|          | 0/100 [00:00<?, ?it/s]"
      ]
     },
     "metadata": {},
     "output_type": "display_data"
    }
   ],
   "source": [
    "from utils import load_orig_ds_txt\n",
    "ds_txt = load_orig_ds_txt(\"validation[:100]\")"
   ]
  },
  {
   "cell_type": "code",
   "execution_count": 5,
   "metadata": {},
   "outputs": [],
   "source": [
    "def tokenize(tokenizer, sample_txt: str) -> list[int]:\n",
    "    # supposedly this can be different than prepending the bos token id\n",
    "    return tokenizer.encode(tokenizer.bos_token + sample_txt, return_tensors=\"pt\")[0]\n"
   ]
  },
  {
   "cell_type": "code",
   "execution_count": 8,
   "metadata": {},
   "outputs": [
    {
     "data": {
      "text/plain": [
       "tensor([50256, 32565,    13, 15899,  2497,   262, 22441,  1097,   290,   531,\n",
       "           11,   366, 22017,    11, 21168,    11,   534,  1097,   318,   523,\n",
       "         6016,   290,  3424,  2474, 21168, 13541,   290,  8712,    11,   366,\n",
       "        10449,   345,    11, 15899,    13,   314, 25245,   340,   790,  1110,\n",
       "          526,   198,   198,  3260,  2712,   351,   262,  1097,    11, 21168,\n",
       "          290, 15899,  2936, 47124,    13,  1119,  1043,   257,  1402, 16723,\n",
       "          351,  1598,  1660,    13,  1119, 24070,   262,  1660,   290,  2936,\n",
       "          845,  3772,    13,  1119,  2826,  1978,   477,  1110,   290,  2627,\n",
       "         1266,  2460,    13])"
      ]
     },
     "execution_count": 8,
     "metadata": {},
     "output_type": "execute_result"
    }
   ],
   "source": [
    "ds_tok = [tokenize(tokenizer, text) for text in ds_txt]\n",
    "ds_tok[0]"
   ]
  },
  {
   "cell_type": "code",
   "execution_count": 7,
   "metadata": {},
   "outputs": [
    {
     "name": "stdout",
     "output_type": "stream",
     "text": [
      "\n",
      "Sample 0:\n",
      "\n",
      "<|endoftext|>|Spot|.| Spot| saw| the| shiny| car| and| said|,| \"|Wow|,| Kitty|,| your| car| is| so| bright| and| clean|!\"| Kitty| smiled| and| replied|,| \"|Thank| you|,| Spot|.| I| polish| it| every| day|.\"|\n",
      "|\n",
      "|After| playing| with| the| car|,| Kitty| and| Spot| felt| thirsty|.| They| found| a| small| pond| with| clear| water|.| They| drank| the| water| and| felt| very| happy|.| They| played| together| all| day| and| became| best| friends|.\n",
      "\n",
      "Sample 1:\n",
      "\n",
      "<|endoftext|>|Once| upon| a| time|,| in| a| big| forest|,| there| lived| a| rh|in|oc|eros| named| R|oxy|.| R|oxy| loved| to| climb|.| She| climbed| trees|,| rocks|,| and| hills|.| One| day|,| R|oxy| found| an| icy| hill|.| She| had| never| seen| anything| like| it| before|.| It| was| shiny| and| cold|,| and| she| wanted| to| climb| it|.|\n",
      "|\n",
      "|R|oxy| tried| to| climb| the| icy| hill|,| but| it| was| very| slippery|.| She| tried| again| and| again|,| but| she| kept| falling| down|.| R|oxy| was| sad|.| She| wanted| to| climb| the| icy| hill| so| much|.| Then|,| she| saw| a| little| bird| named| Billy|.| Billy| saw| that| R|oxy| was| sad| and| asked|,| \"|Why| are| you| sad|,| R|oxy|?\"|\n",
      "|\n",
      "|R|oxy| told| Billy| about| the| icy| hill| and| how| she| couldn|'t| climb| it|.| Billy| said|,| \"|I| have| an| idea|!| Let|'s| find| some| big| leaves| to| put| under| your| feet|.| They| will| help| you| climb| the| icy| hill|.\"| R|oxy| and| Billy| looked| for| big| leaves| and| found| some|.| R|oxy| put| the| leaves| under| her| feet| and| tried| to| climb| the| icy| hill| again|.|\n",
      "|\n",
      "|This| time|,| R|oxy| didn|'t| slip|.| She| climbed| and| climbed| until| she| reached| the| top| of| the| icy| hill|.| R|oxy| was| so| happy|!| She| and| Billy| played| on| the| icy| hill| all| day|.| From| that| day| on|,| R|oxy| and| Billy| were| the| best| of| friends|,| and| they| climbed| and| played| together| all| the| time|.| And| R|oxy| learned| that| with| a| little| help| from| a| friend|,| she| could| climb| anything|.\n",
      "\n",
      "Sample 2:\n",
      "\n",
      "<|endoftext|>|Once| upon| a| time|,| in| a| small| yard|,| there| was| a| small| da|isy|.| The| da|isy| had| a| name|.| Her| name| was| Daisy|.| Daisy| was| very| small|,| but| she| was| also| very| happy|.|\n",
      "|\n",
      "|One| day|,| Daisy| saw| a| dog|.| The| dog| was| big| and| had| a| name| too|.| His| name| was| Max|.| Max| liked| to| play| in| the| yard|.| Daisy| liked| to| watch| Max| play|.| Max| and| Daisy| became| friends|.|\n",
      "|\n",
      "|Every| day|,| Max| would| come| to| the| yard| to| play|.| Daisy| would| watch| and| smile|.| They| were| very| happy| together|.| And| even| though| Daisy| was| small|,| she| knew| that| she| had| a| big| friend| in| Max|.\n",
      "\n",
      "Sample 3:\n",
      "\n",
      "<|endoftext|>|Once| upon| a| time|,| there| was| a| thoughtful| girl| named| Sue|.| Sue| loved| to| help| her| mom| around| the| house|.| One| day|,| her| mom| asked| her| to| wipe| the| table| after| they| ate| their| lunch|.| Sue| was| happy| to| help|.|\n",
      "|\n",
      "|As| Sue| was| wiping| the| table|,| she| saw| a| pretty| candle| on| the| window| sill|.| The| candle| was| her| mom|'s| favorite|.| Sue| wanted| to| do| something| nice| for| her| mom|,| so| she| said|,| \"|Mom|,| can| I| light| the| candle| for| you|?\"| Her| mom| said|,| \"|Yes|,| but| be| very| careful|.\"|\n",
      "|\n",
      "|S|ue| carefully| lit| the| candle| and| put| it| on| the| table|.| Her| mom| was| so| happy| to| see| the| pretty| candle|.| They| both| sat| and| watched| the| candle| burn|.| Sue|'s| mom| said|,| \"|Thank| you|,| Sue|,| for| being| so| thoughtful| and| careful|.\"| Sue| felt| proud| that| she| could| help| her| mom|.|\n",
      "|\n",
      "|The| moral| of| the| story| is| to| always| be| thoughtful| and| careful| when| helping| others|.\n",
      "\n",
      "Sample 4:\n",
      "\n",
      "<|endoftext|>|Once| upon| a| time|,| there| was| a| kind| farmer|.| He| had| a| big| cow|.| The| cow| was| sad|.| The| farmer| did| not| know| why|.|\n",
      "|\n",
      "|One| day|,| a| little| boy| came| to| the| farm|.| He| saw| the| sad| cow|.| The| boy| kne|eled| down| to| talk| to| the| cow|.| \"|Why| are| you| sad|,| cow|?\"| he| asked|.| The| cow| said|,| \"|I| am| lonely|.| I| want| a| friend|.\"|\n",
      "|\n",
      "|The| kind| farmer| heard| the| cow|.| He| wanted| to| help|.| So|,| he| got| another| cow| to| be| friends| with| the| sad| cow|.| The| sad| cow| was| happy| now|.| They| played| together| every| day|.| And| the| kind| farmer|,| the| little| boy|,| and| the| two| cows| all| lived| happily| ever| after|.\n"
     ]
    }
   ],
   "source": [
    "for i in range(5):\n",
    "    print(f\"\\nSample {i}:\\n\")\n",
    "    sample_tok = ds_tok[i]\n",
    "    print(\"|\".join(tokenizer.decode(tok) for tok in sample_tok))"
   ]
  }
 ],
 "metadata": {
  "kernelspec": {
   "display_name": ".venv",
   "language": "python",
   "name": "python3"
  },
  "language_info": {
   "codemirror_mode": {
    "name": "ipython",
    "version": 3
   },
   "file_extension": ".py",
   "mimetype": "text/x-python",
   "name": "python",
   "nbconvert_exporter": "python",
   "pygments_lexer": "ipython3",
   "version": "3.10.13"
  }
 },
 "nbformat": 4,
 "nbformat_minor": 2
}
