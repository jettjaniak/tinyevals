{
 "cells": [
  {
   "cell_type": "code",
   "execution_count": 3,
   "metadata": {},
   "outputs": [
    {
     "name": "stderr",
     "output_type": "stream",
     "text": [
      "/Users/jett/Documents/jett/tinyevals/.venv/lib/python3.10/site-packages/huggingface_hub/repocard.py:105: UserWarning: Repo card metadata block was not found. Setting CardData to empty.\n",
      "  warnings.warn(\"Repo card metadata block was not found. Setting CardData to empty.\")\n"
     ]
    },
    {
     "data": {
      "application/vnd.jupyter.widget-view+json": {
       "model_id": "c15d39905d444900ac6f9f36f9212beb",
       "version_major": 2,
       "version_minor": 0
      },
      "text/plain": [
       "  0%|          | 0/100 [00:00<?, ?it/s]"
      ]
     },
     "metadata": {},
     "output_type": "display_data"
    }
   ],
   "source": [
    "import torch; torch.set_grad_enabled(False)\n",
    "from transformers import AutoTokenizer, AutoModelForCausalLM\n",
    "from utils import load_orig_ds_txt, tokenize, get_logits, get_correct_probs\n",
    "from IPython.display import HTML\n",
    "\n",
    "model_name = \"roneneldan/TinyStories-1M\"\n",
    "tokenizer = AutoTokenizer.from_pretrained(model_name)\n",
    "model = AutoModelForCausalLM.from_pretrained(model_name)\n",
    "ds_txt = load_orig_ds_txt(\"validation[:100]\")\n",
    "ds_tok = [tokenize(tokenizer, txt) for txt in ds_txt]\n",
    "sample_tok = ds_tok[0]"
   ]
  },
  {
   "cell_type": "markdown",
   "metadata": {},
   "source": [
    "## visualize the tokenized prompt\n",
    "each token is going to be an HTML div with a border around it"
   ]
  },
  {
   "cell_type": "markdown",
   "metadata": {},
   "source": [
    "generate a `<style>` tag with CSS for the token divs"
   ]
  },
  {
   "cell_type": "code",
   "execution_count": 4,
   "metadata": {},
   "outputs": [
    {
     "data": {
      "text/plain": [
       "'<style>.token { border: 1px solid #888; display: inline-block; font-family: monospace; font-size: 14px; color: black; background-color: white; margin: 1px 0px 1px 1px; padding: 0px 1px 1px 1px; }</style>'"
      ]
     },
     "execution_count": 4,
     "metadata": {},
     "output_type": "execute_result"
    }
   ],
   "source": [
    "token_style = {\n",
    "    \"border\": \"1px solid #888\",\n",
    "    \"display\": \"inline-block\",\n",
    "    # each character of the same width, so we can easily spot a space\n",
    "    \"font-family\": \"monospace\",\n",
    "    \"font-size\": \"14px\",\n",
    "    \"color\": \"black\",\n",
    "    \"background-color\": \"white\",\n",
    "    \"margin\": \"1px 0px 1px 1px\",\n",
    "    \"padding\": \"0px 1px 1px 1px\",\n",
    "}\n",
    "style_str = \" \".join([f\"{k}: {v};\" for k, v in token_style.items()])\n",
    "# every element of class \"token\" will have this style applied\n",
    "style_tag = f\"<style>.token {{ {style_str} }}</style>\"\n",
    "style_tag"
   ]
  },
  {
   "cell_type": "markdown",
   "metadata": {},
   "source": [
    "convert a token to it's HTML representation"
   ]
  },
  {
   "cell_type": "code",
   "execution_count": 5,
   "metadata": {},
   "outputs": [
    {
     "name": "stdout",
     "output_type": "stream",
     "text": [
      "<div class='token'>&nbsp;authorized</div>\n",
      "<div class='token'>\\n</div><br>\n"
     ]
    }
   ],
   "source": [
    "def token_to_html_v0(token):\n",
    "    # non-breakable space, w/o it leading spaces wouldn't be displayed\n",
    "    str_token = tokenizer.decode(token).replace(\" \", \"&nbsp;\")\n",
    "\n",
    "    # line break or not\n",
    "    br = \"\"\n",
    "    if str_token == \"\\n\":\n",
    "        # replace new line character with two characters: \\ and n\n",
    "        str_token = r\"\\n\"\n",
    "        # add line break in html\n",
    "        br = \"<br>\"\n",
    "\n",
    "    return f\"<div class='token'>{str_token}</div>{br}\"\n",
    "print(token_to_html_v0(10435)) # \" authorized\"\n",
    "print(token_to_html_v0(198))   # \"\\n\""
   ]
  },
  {
   "cell_type": "markdown",
   "metadata": {},
   "source": [
    "combine the style tag with divs for each token"
   ]
  },
  {
   "cell_type": "code",
   "execution_count": 6,
   "metadata": {},
   "outputs": [
    {
     "data": {
      "text/html": [
       "<style>.token { border: 1px solid #888; display: inline-block; font-family: monospace; font-size: 14px; color: black; background-color: white; margin: 1px 0px 1px 1px; padding: 0px 1px 1px 1px; }</style><div class='token'><|endoftext|></div><div class='token'>Spot</div><div class='token'>.</div><div class='token'>&nbsp;Spot</div><div class='token'>&nbsp;saw</div><div class='token'>&nbsp;the</div><div class='token'>&nbsp;shiny</div><div class='token'>&nbsp;car</div><div class='token'>&nbsp;and</div><div class='token'>&nbsp;said</div><div class='token'>,</div><div class='token'>&nbsp;\"</div><div class='token'>Wow</div><div class='token'>,</div><div class='token'>&nbsp;Kitty</div><div class='token'>,</div><div class='token'>&nbsp;your</div><div class='token'>&nbsp;car</div><div class='token'>&nbsp;is</div><div class='token'>&nbsp;so</div><div class='token'>&nbsp;bright</div><div class='token'>&nbsp;and</div><div class='token'>&nbsp;clean</div><div class='token'>!\"</div><div class='token'>&nbsp;Kitty</div><div class='token'>&nbsp;smiled</div><div class='token'>&nbsp;and</div><div class='token'>&nbsp;replied</div><div class='token'>,</div><div class='token'>&nbsp;\"</div><div class='token'>Thank</div><div class='token'>&nbsp;you</div><div class='token'>,</div><div class='token'>&nbsp;Spot</div><div class='token'>.</div><div class='token'>&nbsp;I</div><div class='token'>&nbsp;polish</div><div class='token'>&nbsp;it</div><div class='token'>&nbsp;every</div><div class='token'>&nbsp;day</div><div class='token'>.\"</div><div class='token'>\\n</div><br><div class='token'>\\n</div><br><div class='token'>After</div><div class='token'>&nbsp;playing</div><div class='token'>&nbsp;with</div><div class='token'>&nbsp;the</div><div class='token'>&nbsp;car</div><div class='token'>,</div><div class='token'>&nbsp;Kitty</div><div class='token'>&nbsp;and</div><div class='token'>&nbsp;Spot</div><div class='token'>&nbsp;felt</div><div class='token'>&nbsp;thirsty</div><div class='token'>.</div><div class='token'>&nbsp;They</div><div class='token'>&nbsp;found</div><div class='token'>&nbsp;a</div><div class='token'>&nbsp;small</div><div class='token'>&nbsp;pond</div><div class='token'>&nbsp;with</div><div class='token'>&nbsp;clear</div><div class='token'>&nbsp;water</div><div class='token'>.</div><div class='token'>&nbsp;They</div><div class='token'>&nbsp;drank</div><div class='token'>&nbsp;the</div><div class='token'>&nbsp;water</div><div class='token'>&nbsp;and</div><div class='token'>&nbsp;felt</div><div class='token'>&nbsp;very</div><div class='token'>&nbsp;happy</div><div class='token'>.</div><div class='token'>&nbsp;They</div><div class='token'>&nbsp;played</div><div class='token'>&nbsp;together</div><div class='token'>&nbsp;all</div><div class='token'>&nbsp;day</div><div class='token'>&nbsp;and</div><div class='token'>&nbsp;became</div><div class='token'>&nbsp;best</div><div class='token'>&nbsp;friends</div><div class='token'>.</div>"
      ],
      "text/plain": [
       "<IPython.core.display.HTML object>"
      ]
     },
     "metadata": {},
     "output_type": "display_data"
    }
   ],
   "source": [
    "def vis_sample_v0(sample_tok):\n",
    "    token_htmls = []\n",
    "    for i in range(sample_tok.shape[0]):\n",
    "        tok = sample_tok[i]\n",
    "        token_htmls.append(token_to_html_v0(tok))\n",
    "    html_str = style_tag + \"\".join(token_htmls)\n",
    "    display(HTML(html_str))\n",
    "vis_sample_v0(sample_tok)"
   ]
  },
  {
   "cell_type": "markdown",
   "metadata": {},
   "source": [
    "There is one small problem. When we select and copy from the visualization, we get \"\\\\\" and \"n\" in addition to line breaks. So let's make the text inside new line token divs unselectable."
   ]
  },
  {
   "cell_type": "markdown",
   "metadata": {},
   "source": [
    "### unselectable `\\n`"
   ]
  },
  {
   "cell_type": "code",
   "execution_count": 7,
   "metadata": {},
   "outputs": [
    {
     "name": "stdout",
     "output_type": "stream",
     "text": [
      "<div class='token'>&nbsp;authorized</div>\n",
      "<div class='token' style='user-select: none'>\\n</div><br>\n"
     ]
    }
   ],
   "source": [
    "def token_to_html_v1(token):\n",
    "    # non-breakable space, w/o it leading spaces wouldn't be displayed\n",
    "    str_token = tokenizer.decode(token).replace(\" \", \"&nbsp;\")\n",
    "\n",
    "    br = style_str = \"\"\n",
    "    if str_token == \"\\n\":\n",
    "        # replace new line character with two characters: \\ and n\n",
    "        str_token = r\"\\n\"\n",
    "        # add line break in html\n",
    "        br = \"<br>\"\n",
    "        # NEW THING: make \\n unselectable\n",
    "        style_str = \" style='user-select: none'\"\n",
    "\n",
    "    return f\"<div class='token'{style_str}>{str_token}</div>{br}\"\n",
    "print(token_to_html_v1(10435)) # \" authorized\"\n",
    "print(token_to_html_v1(198))   # \"\\n\""
   ]
  },
  {
   "cell_type": "code",
   "execution_count": 8,
   "metadata": {},
   "outputs": [
    {
     "data": {
      "text/html": [
       "<style>.token { border: 1px solid #888; display: inline-block; font-family: monospace; font-size: 14px; color: black; background-color: white; margin: 1px 0px 1px 1px; padding: 0px 1px 1px 1px; }</style><div class='token'><|endoftext|></div><div class='token'>Spot</div><div class='token'>.</div><div class='token'>&nbsp;Spot</div><div class='token'>&nbsp;saw</div><div class='token'>&nbsp;the</div><div class='token'>&nbsp;shiny</div><div class='token'>&nbsp;car</div><div class='token'>&nbsp;and</div><div class='token'>&nbsp;said</div><div class='token'>,</div><div class='token'>&nbsp;\"</div><div class='token'>Wow</div><div class='token'>,</div><div class='token'>&nbsp;Kitty</div><div class='token'>,</div><div class='token'>&nbsp;your</div><div class='token'>&nbsp;car</div><div class='token'>&nbsp;is</div><div class='token'>&nbsp;so</div><div class='token'>&nbsp;bright</div><div class='token'>&nbsp;and</div><div class='token'>&nbsp;clean</div><div class='token'>!\"</div><div class='token'>&nbsp;Kitty</div><div class='token'>&nbsp;smiled</div><div class='token'>&nbsp;and</div><div class='token'>&nbsp;replied</div><div class='token'>,</div><div class='token'>&nbsp;\"</div><div class='token'>Thank</div><div class='token'>&nbsp;you</div><div class='token'>,</div><div class='token'>&nbsp;Spot</div><div class='token'>.</div><div class='token'>&nbsp;I</div><div class='token'>&nbsp;polish</div><div class='token'>&nbsp;it</div><div class='token'>&nbsp;every</div><div class='token'>&nbsp;day</div><div class='token'>.\"</div><div class='token' style='user-select: none'>\\n</div><br><div class='token' style='user-select: none'>\\n</div><br><div class='token'>After</div><div class='token'>&nbsp;playing</div><div class='token'>&nbsp;with</div><div class='token'>&nbsp;the</div><div class='token'>&nbsp;car</div><div class='token'>,</div><div class='token'>&nbsp;Kitty</div><div class='token'>&nbsp;and</div><div class='token'>&nbsp;Spot</div><div class='token'>&nbsp;felt</div><div class='token'>&nbsp;thirsty</div><div class='token'>.</div><div class='token'>&nbsp;They</div><div class='token'>&nbsp;found</div><div class='token'>&nbsp;a</div><div class='token'>&nbsp;small</div><div class='token'>&nbsp;pond</div><div class='token'>&nbsp;with</div><div class='token'>&nbsp;clear</div><div class='token'>&nbsp;water</div><div class='token'>.</div><div class='token'>&nbsp;They</div><div class='token'>&nbsp;drank</div><div class='token'>&nbsp;the</div><div class='token'>&nbsp;water</div><div class='token'>&nbsp;and</div><div class='token'>&nbsp;felt</div><div class='token'>&nbsp;very</div><div class='token'>&nbsp;happy</div><div class='token'>.</div><div class='token'>&nbsp;They</div><div class='token'>&nbsp;played</div><div class='token'>&nbsp;together</div><div class='token'>&nbsp;all</div><div class='token'>&nbsp;day</div><div class='token'>&nbsp;and</div><div class='token'>&nbsp;became</div><div class='token'>&nbsp;best</div><div class='token'>&nbsp;friends</div><div class='token'>.</div>"
      ],
      "text/plain": [
       "<IPython.core.display.HTML object>"
      ]
     },
     "metadata": {},
     "output_type": "display_data"
    }
   ],
   "source": [
    "def vis_sample_v1(sample_tok):\n",
    "    token_htmls = []\n",
    "    for i in range(sample_tok.shape[0]):\n",
    "        tok = sample_tok[i]\n",
    "        token_htmls.append(token_to_html_v1(tok))\n",
    "    html_str = style_tag + \"\".join(token_htmls)\n",
    "    display(HTML(html_str))\n",
    "vis_sample_v1(sample_tok)"
   ]
  },
  {
   "cell_type": "markdown",
   "metadata": {},
   "source": [
    "## visualize correct next token probabilities\n",
    "\n",
    "Now we will make the background color represent what probability the model assigned to the actual next token."
   ]
  },
  {
   "cell_type": "markdown",
   "metadata": {},
   "source": [
    "### collect probabilities of correct next tokens"
   ]
  },
  {
   "cell_type": "code",
   "execution_count": 9,
   "metadata": {},
   "outputs": [],
   "source": [
    "correct_probs = get_correct_probs(model, sample_tok)"
   ]
  },
  {
   "cell_type": "markdown",
   "metadata": {},
   "source": [
    "convert correct probabilities to colors"
   ]
  },
  {
   "cell_type": "code",
   "execution_count": 10,
   "metadata": {},
   "outputs": [],
   "source": [
    "def probs_to_colors(probs):\n",
    "    # for the endoftext token\n",
    "    # no prediction, no color\n",
    "    colors = [\"white\"]\n",
    "    for p in probs.tolist():\n",
    "        red_gap = 150  # the higher it is, the less red the tokens will be\n",
    "        green_blue_val = red_gap + int((255 - red_gap) * (1 - p))\n",
    "        colors.append(f\"rgb(255, {green_blue_val}, {green_blue_val})\")\n",
    "    return colors"
   ]
  },
  {
   "cell_type": "code",
   "execution_count": 11,
   "metadata": {},
   "outputs": [
    {
     "name": "stdout",
     "output_type": "stream",
     "text": [
      "<div class='token' style='background-color: green'>&nbsp;authorized</div>\n",
      "<div class='token' style='background-color: red; user-select: none'>\\n</div><br>\n"
     ]
    }
   ],
   "source": [
    "def token_to_html_v2(token, bg_color=None):\n",
    "    # non-breakable space, w/o it leading spaces wouldn't be displayed\n",
    "    str_token = tokenizer.decode(token).replace(\" \", \"&nbsp;\")\n",
    "\n",
    "    # NEW THING:\n",
    "    #  now background color and user select will be defined in\n",
    "    #  this dict if needed, it will be easier to extend later\n",
    "    specific_styles = {}\n",
    "    # for now just adds line break or doesn't\n",
    "    br = \"\"\n",
    "\n",
    "    # NEW THING\n",
    "    if bg_color:\n",
    "        specific_styles[\"background-color\"] = bg_color\n",
    "    if str_token == \"\\n\":\n",
    "        # replace new line character with two characters: \\ and n\n",
    "        str_token = r\"\\n\"\n",
    "        # add line break in html\n",
    "        br += \"<br>\"\n",
    "        # this is so we can copy the prompt without \"\\n\"s\n",
    "        specific_styles[\"user-select\"] = \"none\"\n",
    "\n",
    "    # NEW THING: converting the dict into the style attribute\n",
    "    style_str = \"\"\n",
    "    if specific_styles:\n",
    "        inside_style_str = \"; \".join(f\"{k}: {v}\" for k, v in specific_styles.items())\n",
    "        style_str = f\" style='{inside_style_str}'\"\n",
    "    return f\"<div class='token'{style_str}>{str_token}</div>{br}\"\n",
    "print(token_to_html_v2(10435, \"green\")) # \" authorized\"\n",
    "print(token_to_html_v2(198, \"red\"))     # \"\\n\""
   ]
  },
  {
   "cell_type": "code",
   "execution_count": 12,
   "metadata": {},
   "outputs": [
    {
     "data": {
      "text/html": [
       "<style>.token { border: 1px solid #888; display: inline-block; font-family: monospace; font-size: 14px; color: black; background-color: white; margin: 1px 0px 1px 1px; padding: 0px 1px 1px 1px; }</style><div class='token' style='background-color: white'><|endoftext|></div><div class='token' style='background-color: rgb(255, 254, 254)'>Spot</div><div class='token' style='background-color: rgb(255, 254, 254)'>.</div><div class='token' style='background-color: rgb(255, 254, 254)'>&nbsp;Spot</div><div class='token' style='background-color: rgb(255, 254, 254)'>&nbsp;saw</div><div class='token' style='background-color: rgb(255, 252, 252)'>&nbsp;the</div><div class='token' style='background-color: rgb(255, 254, 254)'>&nbsp;shiny</div><div class='token' style='background-color: rgb(255, 254, 254)'>&nbsp;car</div><div class='token' style='background-color: rgb(255, 232, 232)'>&nbsp;and</div><div class='token' style='background-color: rgb(255, 254, 254)'>&nbsp;said</div><div class='token' style='background-color: rgb(255, 176, 176)'>,</div><div class='token' style='background-color: rgb(255, 151, 151)'>&nbsp;\"</div><div class='token' style='background-color: rgb(255, 249, 249)'>Wow</div><div class='token' style='background-color: rgb(255, 159, 159)'>,</div><div class='token' style='background-color: rgb(255, 254, 254)'>&nbsp;Kitty</div><div class='token' style='background-color: rgb(255, 241, 241)'>,</div><div class='token' style='background-color: rgb(255, 252, 252)'>&nbsp;your</div><div class='token' style='background-color: rgb(255, 215, 215)'>&nbsp;car</div><div class='token' style='background-color: rgb(255, 167, 167)'>&nbsp;is</div><div class='token' style='background-color: rgb(255, 193, 193)'>&nbsp;so</div><div class='token' style='background-color: rgb(255, 254, 254)'>&nbsp;bright</div><div class='token' style='background-color: rgb(255, 245, 245)'>&nbsp;and</div><div class='token' style='background-color: rgb(255, 254, 254)'>&nbsp;clean</div><div class='token' style='background-color: rgb(255, 237, 237)'>!\"</div><div class='token' style='background-color: rgb(255, 248, 248)'>&nbsp;Kitty</div><div class='token' style='background-color: rgb(255, 246, 246)'>&nbsp;smiled</div><div class='token' style='background-color: rgb(255, 156, 156)'>&nbsp;and</div><div class='token' style='background-color: rgb(255, 254, 254)'>&nbsp;replied</div><div class='token' style='background-color: rgb(255, 151, 151)'>,</div><div class='token' style='background-color: rgb(255, 150, 150)'>&nbsp;\"</div><div class='token' style='background-color: rgb(255, 237, 237)'>Thank</div><div class='token' style='background-color: rgb(255, 150, 150)'>&nbsp;you</div><div class='token' style='background-color: rgb(255, 165, 165)'>,</div><div class='token' style='background-color: rgb(255, 185, 185)'>&nbsp;Spot</div><div class='token' style='background-color: rgb(255, 234, 234)'>.</div><div class='token' style='background-color: rgb(255, 235, 235)'>&nbsp;I</div><div class='token' style='background-color: rgb(255, 254, 254)'>&nbsp;polish</div><div class='token' style='background-color: rgb(255, 189, 189)'>&nbsp;it</div><div class='token' style='background-color: rgb(255, 242, 242)'>&nbsp;every</div><div class='token' style='background-color: rgb(255, 161, 161)'>&nbsp;day</div><div class='token' style='background-color: rgb(255, 172, 172)'>.\"</div><div class='token' style='background-color: rgb(255, 210, 210); user-select: none'>\\n</div><br><div class='token' style='background-color: rgb(255, 155, 155); user-select: none'>\\n</div><br><div class='token' style='background-color: rgb(255, 254, 254)'>After</div><div class='token' style='background-color: rgb(255, 222, 222)'>&nbsp;playing</div><div class='token' style='background-color: rgb(255, 228, 228)'>&nbsp;with</div><div class='token' style='background-color: rgb(255, 232, 232)'>&nbsp;the</div><div class='token' style='background-color: rgb(255, 221, 221)'>&nbsp;car</div><div class='token' style='background-color: rgb(255, 152, 152)'>,</div><div class='token' style='background-color: rgb(255, 216, 216)'>&nbsp;Kitty</div><div class='token' style='background-color: rgb(255, 227, 227)'>&nbsp;and</div><div class='token' style='background-color: rgb(255, 220, 220)'>&nbsp;Spot</div><div class='token' style='background-color: rgb(255, 254, 254)'>&nbsp;felt</div><div class='token' style='background-color: rgb(255, 254, 254)'>&nbsp;thirsty</div><div class='token' style='background-color: rgb(255, 179, 179)'>.</div><div class='token' style='background-color: rgb(255, 178, 178)'>&nbsp;They</div><div class='token' style='background-color: rgb(255, 254, 254)'>&nbsp;found</div><div class='token' style='background-color: rgb(255, 184, 184)'>&nbsp;a</div><div class='token' style='background-color: rgb(255, 253, 253)'>&nbsp;small</div><div class='token' style='background-color: rgb(255, 254, 254)'>&nbsp;pond</div><div class='token' style='background-color: rgb(255, 232, 232)'>&nbsp;with</div><div class='token' style='background-color: rgb(255, 254, 254)'>&nbsp;clear</div><div class='token' style='background-color: rgb(255, 196, 196)'>&nbsp;water</div><div class='token' style='background-color: rgb(255, 220, 220)'>.</div><div class='token' style='background-color: rgb(255, 231, 231)'>&nbsp;They</div><div class='token' style='background-color: rgb(255, 252, 252)'>&nbsp;drank</div><div class='token' style='background-color: rgb(255, 235, 235)'>&nbsp;the</div><div class='token' style='background-color: rgb(255, 165, 165)'>&nbsp;water</div><div class='token' style='background-color: rgb(255, 170, 170)'>&nbsp;and</div><div class='token' style='background-color: rgb(255, 251, 251)'>&nbsp;felt</div><div class='token' style='background-color: rgb(255, 249, 249)'>&nbsp;very</div><div class='token' style='background-color: rgb(255, 212, 212)'>&nbsp;happy</div><div class='token' style='background-color: rgb(255, 161, 161)'>.</div><div class='token' style='background-color: rgb(255, 235, 235)'>&nbsp;They</div><div class='token' style='background-color: rgb(255, 229, 229)'>&nbsp;played</div><div class='token' style='background-color: rgb(255, 240, 240)'>&nbsp;together</div><div class='token' style='background-color: rgb(255, 224, 224)'>&nbsp;all</div><div class='token' style='background-color: rgb(255, 152, 152)'>&nbsp;day</div><div class='token' style='background-color: rgb(255, 235, 235)'>&nbsp;and</div><div class='token' style='background-color: rgb(255, 250, 250)'>&nbsp;became</div><div class='token' style='background-color: rgb(255, 250, 250)'>&nbsp;best</div><div class='token' style='background-color: rgb(255, 150, 150)'>&nbsp;friends</div><div class='token' style='background-color: rgb(255, 153, 153)'>.</div>"
      ],
      "text/plain": [
       "<IPython.core.display.HTML object>"
      ]
     },
     "metadata": {},
     "output_type": "display_data"
    }
   ],
   "source": [
    "def vis_sample_v2(sample_tok, probs=None):\n",
    "    colors = color = None\n",
    "    if probs is not None:\n",
    "        colors = probs_to_colors(probs) \n",
    "    token_htmls = []\n",
    "    for i in range(sample_tok.shape[0]):\n",
    "        tok = sample_tok[i]\n",
    "        if colors:\n",
    "            color = colors[i]\n",
    "        token_htmls.append(token_to_html_v2(tok, bg_color=color))\n",
    "    html_str = style_tag + \"\".join(token_htmls)\n",
    "    display(HTML(html_str))\n",
    "vis_sample_v2(sample_tok, correct_probs)"
   ]
  },
  {
   "cell_type": "markdown",
   "metadata": {},
   "source": [
    "## showing more info on hover\n",
    "\n",
    "It would be good to see the actual % probability or what were the other predictions"
   ]
  },
  {
   "cell_type": "markdown",
   "metadata": {},
   "source": [
    "include additional information in `data-*` attributes of token divs"
   ]
  },
  {
   "cell_type": "code",
   "execution_count": 13,
   "metadata": {},
   "outputs": [
    {
     "name": "stdout",
     "output_type": "stream",
     "text": [
      "<div class='token' style='background-color: green' data-prob='10%'>&nbsp;authorized</div>\n",
      "<div class='token' style='background-color: red; user-select: none' data-top_pred='Once'>\\n</div><br>\n"
     ]
    }
   ],
   "source": [
    "def token_to_html_v3(token, bg_color=None, data=None):\n",
    "    # NEW THING: we can define arbitrary data as a dict\n",
    "    data = data or {}  # equivalent to if not data: data = {}\n",
    "    # non-breakable space, w/o it leading spaces wouldn't be displayed\n",
    "    str_token = tokenizer.decode(token).replace(\" \", \"&nbsp;\")\n",
    "\n",
    "    # background or user-select (for \\n) goes here\n",
    "    specific_styles = {}\n",
    "    # for now just adds line break or doesn't\n",
    "    br = \"\"\n",
    "\n",
    "    if bg_color:\n",
    "        specific_styles[\"background-color\"] = bg_color\n",
    "    if str_token == \"\\n\":\n",
    "        # replace new line character with two characters: \\ and n\n",
    "        str_token = r\"\\n\"\n",
    "        # add line break in html\n",
    "        br += \"<br>\"\n",
    "        # this is so we can copy the prompt without \"\\n\"s\n",
    "        specific_styles[\"user-select\"] = \"none\"\n",
    "\n",
    "    style_str = data_str = \"\"\n",
    "    # converting style dict into the style attribute\n",
    "    if specific_styles:\n",
    "        inside_style_str = \"; \".join(f\"{k}: {v}\" for k, v in specific_styles.items())\n",
    "        style_str = f\" style='{inside_style_str}'\"\n",
    "    # NEW THING: converting data dict into data attributes\n",
    "    if data:\n",
    "        data_str = \"\".join(f\" data-{k}='{v.replace(' ', '&nbsp;')}'\" for k, v in data.items())\n",
    "    return f\"<div class='token'{style_str}{data_str}>{str_token}</div>{br}\"\n",
    "print(token_to_html_v3(10435, \"green\", data=dict(prob=\"10%\")))       # \" authorized\"\n",
    "print(token_to_html_v3(198,   \"red\",   data=dict(top_pred=\"Once\")))  # \"\\n\""
   ]
  },
  {
   "cell_type": "markdown",
   "metadata": {},
   "source": [
    "### collect top k predictions"
   ]
  },
  {
   "cell_type": "code",
   "execution_count": 14,
   "metadata": {},
   "outputs": [],
   "source": [
    "def get_probs(sample_tok, top_k=3):\n",
    "    \"\"\"Get probabilities for the actual next token and for top k predictions\"\"\"\n",
    "    # shape: (pos, d_vocab)\n",
    "    logits = get_logits(model, sample_tok)\n",
    "    # pos, d_vocab\n",
    "    probs = torch.softmax(logits, dim=-1)\n",
    "    # drop the value for the last position, as we don't know\n",
    "    # what is the correct next token there\n",
    "    probs = probs[:-1]\n",
    "    # out of d_vocab values, take the one that corresponds to the correct next token\n",
    "    correct_probs = probs[range(len(probs)), sample_tok[1:]]\n",
    "    top_k_probs = torch.topk(probs, top_k, dim=-1)\n",
    "    return correct_probs, top_k_probs"
   ]
  },
  {
   "cell_type": "code",
   "execution_count": 15,
   "metadata": {},
   "outputs": [],
   "source": [
    "correct_probs, top_k_probs = get_probs(sample_tok)"
   ]
  },
  {
   "cell_type": "code",
   "execution_count": 16,
   "metadata": {},
   "outputs": [],
   "source": [
    "style_tag_with_hover = f\"<style>.token {{ {style_str} }} #hover_info {{ height: 100px; font-family: monospace }}</style>\""
   ]
  },
  {
   "cell_type": "code",
   "execution_count": 24,
   "metadata": {},
   "outputs": [
    {
     "data": {
      "text/html": [
       "<style>.token { border: 1px solid #888; display: inline-block; font-family: monospace; font-size: 14px; color: black; background-color: white; margin: 1px 0px 1px 1px; padding: 0px 1px 1px 1px; } #hover_info { height: 100px; font-family: monospace }</style><div class='token' style='background-color: white'><|endoftext|></div><div class='token' style='background-color: rgb(255, 254, 254)' data-next='&nbsp;0.00%&nbsp;|Spot|' data-top0='55.24%&nbsp;|\\n\\n|' data-top1='43.93%&nbsp;|\\n|' data-top2='&nbsp;0.11%&nbsp;|<|endoftext|>|'>Spot</div><div class='token' style='background-color: rgb(255, 254, 254)' data-next='&nbsp;0.39%&nbsp;|.|' data-top0='90.65%&nbsp;|&nbsp;and|' data-top1='&nbsp;7.17%&nbsp;|,|' data-top2='&nbsp;0.65%&nbsp;|&nbsp;was|'>.</div><div class='token' style='background-color: rgb(255, 254, 254)' data-next='&nbsp;0.38%&nbsp;|&nbsp;Spot|' data-top0='21.64%&nbsp;|&nbsp;Tim|' data-top1='16.93%&nbsp;|&nbsp;He|' data-top2='11.58%&nbsp;|&nbsp;She|'>&nbsp;Spot</div><div class='token' style='background-color: rgb(255, 254, 254)' data-next='&nbsp;0.13%&nbsp;|&nbsp;saw|' data-top0='44.13%&nbsp;|&nbsp;was|' data-top1='13.15%&nbsp;|&nbsp;and|' data-top2='12.00%&nbsp;|&nbsp;loved|'>&nbsp;saw</div><div class='token' style='background-color: rgb(255, 252, 252)' data-next='&nbsp;2.62%&nbsp;|&nbsp;the|' data-top0='74.04%&nbsp;|&nbsp;a|' data-top1='13.86%&nbsp;|&nbsp;his|' data-top2='&nbsp;2.62%&nbsp;|&nbsp;the|'>&nbsp;the</div><div class='token' style='background-color: rgb(255, 254, 254)' data-next='&nbsp;0.57%&nbsp;|&nbsp;shiny|' data-top0='&nbsp;4.52%&nbsp;|&nbsp;big|' data-top1='&nbsp;2.58%&nbsp;|&nbsp;ball|' data-top2='&nbsp;2.26%&nbsp;|&nbsp;red|'>&nbsp;shiny</div><div class='token' style='background-color: rgb(255, 254, 254)' data-next='&nbsp;0.69%&nbsp;|&nbsp;car|' data-top0='32.26%&nbsp;|&nbsp;thing|' data-top1='11.71%&nbsp;|&nbsp;object|' data-top2='&nbsp;7.64%&nbsp;|&nbsp;toy|'>&nbsp;car</div><div class='token' style='background-color: rgb(255, 232, 232)' data-next='21.32%&nbsp;|&nbsp;and|' data-top0='41.79%&nbsp;|.|' data-top1='21.32%&nbsp;|&nbsp;and|' data-top2='&nbsp;6.60%&nbsp;|&nbsp;with|'>&nbsp;and</div><div class='token' style='background-color: rgb(255, 254, 254)' data-next='&nbsp;0.75%&nbsp;|&nbsp;said|' data-top0='66.84%&nbsp;|&nbsp;wanted|' data-top1='&nbsp;5.95%&nbsp;|&nbsp;he|' data-top2='&nbsp;3.87%&nbsp;|&nbsp;ran|'>&nbsp;said</div><div class='token' style='background-color: rgb(255, 176, 176)' data-next='74.74%&nbsp;|,|' data-top0='74.74%&nbsp;|,|' data-top1='&nbsp;5.53%&nbsp;|&nbsp;it|' data-top2='&nbsp;4.54%&nbsp;|&nbsp;to|'>,</div><div class='token' style='background-color: rgb(255, 151, 151)' data-next='98.25%&nbsp;|&nbsp;\"|' data-top0='98.25%&nbsp;|&nbsp;\"|' data-top1='&nbsp;0.79%&nbsp;|&nbsp;�|' data-top2='&nbsp;0.17%&nbsp;|&nbsp;he|'>&nbsp;\"</div><div class='token' style='background-color: rgb(255, 249, 249)' data-next='&nbsp;5.32%&nbsp;|Wow|' data-top0='13.69%&nbsp;|Look|' data-top1='&nbsp;9.10%&nbsp;|No|' data-top2='&nbsp;8.93%&nbsp;|I|'>Wow</div><div class='token' style='background-color: rgb(255, 159, 159)' data-next='90.84%&nbsp;|,|' data-top0='90.84%&nbsp;|,|' data-top1='&nbsp;6.58%&nbsp;|!|' data-top2='&nbsp;1.62%&nbsp;|!\"|'>,</div><div class='token' style='background-color: rgb(255, 254, 254)' data-next='&nbsp;0.02%&nbsp;|&nbsp;Kitty|' data-top0='33.65%&nbsp;|&nbsp;that|' data-top1='13.76%&nbsp;|&nbsp;it|' data-top2='11.07%&nbsp;|&nbsp;Spot|'>&nbsp;Kitty</div><div class='token' style='background-color: rgb(255, 241, 241)' data-next='12.87%&nbsp;|,|' data-top0='79.47%&nbsp;|!|' data-top1='12.87%&nbsp;|,|' data-top2='&nbsp;4.80%&nbsp;|!\"|'>,</div><div class='token' style='background-color: rgb(255, 252, 252)' data-next='&nbsp;1.90%&nbsp;|&nbsp;your|' data-top0='30.79%&nbsp;|&nbsp;that|' data-top1='22.55%&nbsp;|&nbsp;look|' data-top2='&nbsp;9.45%&nbsp;|&nbsp;it|'>&nbsp;your</div><div class='token' style='background-color: rgb(255, 215, 215)' data-next='37.67%&nbsp;|&nbsp;car|' data-top0='37.67%&nbsp;|&nbsp;car|' data-top1='18.53%&nbsp;|&nbsp;name|' data-top2='&nbsp;5.98%&nbsp;|&nbsp;new|'>&nbsp;car</div><div class='token' style='background-color: rgb(255, 167, 167)' data-next='83.39%&nbsp;|&nbsp;is|' data-top0='83.39%&nbsp;|&nbsp;is|' data-top1='&nbsp;3.01%&nbsp;|!\"|' data-top2='&nbsp;1.99%&nbsp;|!|'>&nbsp;is</div><div class='token' style='background-color: rgb(255, 193, 193)' data-next='59.00%&nbsp;|&nbsp;so|' data-top0='59.00%&nbsp;|&nbsp;so|' data-top1='17.49%&nbsp;|&nbsp;very|' data-top2='&nbsp;3.54%&nbsp;|&nbsp;going|'>&nbsp;so</div><div class='token' style='background-color: rgb(255, 254, 254)' data-next='&nbsp;0.79%&nbsp;|&nbsp;bright|' data-top0='51.61%&nbsp;|&nbsp;pretty|' data-top1='11.39%&nbsp;|&nbsp;shiny|' data-top2='11.30%&nbsp;|&nbsp;cool|'>&nbsp;bright</div><div class='token' style='background-color: rgb(255, 245, 245)' data-next='&nbsp;9.30%&nbsp;|&nbsp;and|' data-top0='44.89%&nbsp;|!\"|' data-top1='14.14%&nbsp;|.\"|' data-top2='10.71%&nbsp;|.|'>&nbsp;and</div><div class='token' style='background-color: rgb(255, 254, 254)' data-next='&nbsp;0.10%&nbsp;|&nbsp;clean|' data-top0='23.77%&nbsp;|&nbsp;shiny|' data-top1='16.30%&nbsp;|&nbsp;pretty|' data-top2='&nbsp;9.88%&nbsp;|&nbsp;cool|'>&nbsp;clean</div><div class='token' style='background-color: rgb(255, 237, 237)' data-next='16.98%&nbsp;|!\"|' data-top0='61.11%&nbsp;|.\"|' data-top1='16.98%&nbsp;|!\"|' data-top2='13.36%&nbsp;|.|'>!\"</div><div class='token' style='background-color: rgb(255, 248, 248)' data-next='&nbsp;6.31%&nbsp;|&nbsp;Kitty|' data-top0='58.68%&nbsp;|&nbsp;Spot|' data-top1='&nbsp;6.31%&nbsp;|&nbsp;Kitty|' data-top2='&nbsp;5.81%&nbsp;|\\n|'>&nbsp;Kitty</div><div class='token' style='background-color: rgb(255, 246, 246)' data-next='&nbsp;7.93%&nbsp;|&nbsp;smiled|' data-top0='29.55%&nbsp;|&nbsp;was|' data-top1='11.85%&nbsp;|&nbsp;said|' data-top2='&nbsp;7.93%&nbsp;|&nbsp;smiled|'>&nbsp;smiled</div><div class='token' style='background-color: rgb(255, 156, 156)' data-next='93.59%&nbsp;|&nbsp;and|' data-top0='93.59%&nbsp;|&nbsp;and|' data-top1='&nbsp;3.39%&nbsp;|.|' data-top2='&nbsp;1.08%&nbsp;|&nbsp;too|'>&nbsp;and</div><div class='token' style='background-color: rgb(255, 254, 254)' data-next='&nbsp;0.35%&nbsp;|&nbsp;replied|' data-top0='57.67%&nbsp;|&nbsp;said|' data-top1='&nbsp;5.79%&nbsp;|&nbsp;ran|' data-top2='&nbsp;2.71%&nbsp;|&nbsp;played|'>&nbsp;replied</div><div class='token' style='background-color: rgb(255, 151, 151)' data-next='98.92%&nbsp;|,|' data-top0='98.92%&nbsp;|,|' data-top1='&nbsp;0.66%&nbsp;|.|' data-top2='&nbsp;0.20%&nbsp;|&nbsp;\"|'>,</div><div class='token' style='background-color: rgb(255, 150, 150)' data-next='99.81%&nbsp;|&nbsp;\"|' data-top0='99.81%&nbsp;|&nbsp;\"|' data-top1='&nbsp;0.04%&nbsp;|&nbsp;|' data-top2='&nbsp;0.03%&nbsp;|\\n|'>&nbsp;\"</div><div class='token' style='background-color: rgb(255, 237, 237)' data-next='16.97%&nbsp;|Thank|' data-top0='29.79%&nbsp;|Yes|' data-top1='16.97%&nbsp;|Thank|' data-top2='11.92%&nbsp;|Wow|'>Thank</div><div class='token' style='background-color: rgb(255, 150, 150)' data-next='99.66%&nbsp;|&nbsp;you|' data-top0='99.66%&nbsp;|&nbsp;you|' data-top1='&nbsp;0.08%&nbsp;|You|' data-top2='&nbsp;0.04%&nbsp;|&nbsp;goodness|'>&nbsp;you</div><div class='token' style='background-color: rgb(255, 165, 165)' data-next='85.61%&nbsp;|,|' data-top0='85.61%&nbsp;|,|' data-top1='&nbsp;6.19%&nbsp;|&nbsp;for|' data-top2='&nbsp;3.10%&nbsp;|!\"|'>,</div><div class='token' style='background-color: rgb(255, 185, 185)' data-next='66.40%&nbsp;|&nbsp;Spot|' data-top0='66.40%&nbsp;|&nbsp;Spot|' data-top1='12.87%&nbsp;|&nbsp;Kitty|' data-top2='&nbsp;2.55%&nbsp;|&nbsp;Fl|'>&nbsp;Spot</div><div class='token' style='background-color: rgb(255, 234, 234)' data-next='19.77%&nbsp;|.|' data-top0='59.09%&nbsp;|!|' data-top1='19.77%&nbsp;|.|' data-top2='15.49%&nbsp;|!\"|'>.</div><div class='token' style='background-color: rgb(255, 235, 235)' data-next='18.75%&nbsp;|&nbsp;I|' data-top0='20.60%&nbsp;|&nbsp;You|' data-top1='18.75%&nbsp;|&nbsp;I|' data-top2='12.40%&nbsp;|&nbsp;It|'>&nbsp;I</div><div class='token' style='background-color: rgb(255, 254, 254)' data-next='&nbsp;0.00%&nbsp;|&nbsp;polish|' data-top0='40.88%&nbsp;|&nbsp;love|' data-top1='24.38%&nbsp;|&nbsp;like|' data-top2='12.77%&nbsp;|'m|'>&nbsp;polish</div><div class='token' style='background-color: rgb(255, 189, 189)' data-next='62.23%&nbsp;|&nbsp;it|' data-top0='62.23%&nbsp;|&nbsp;it|' data-top1='10.19%&nbsp;|&nbsp;the|' data-top2='&nbsp;9.92%&nbsp;|&nbsp;your|'>&nbsp;it</div><div class='token' style='background-color: rgb(255, 242, 242)' data-next='11.50%&nbsp;|&nbsp;every|' data-top0='27.00%&nbsp;|&nbsp;in|' data-top1='11.57%&nbsp;|&nbsp;with|' data-top2='11.50%&nbsp;|&nbsp;every|'>&nbsp;every</div><div class='token' style='background-color: rgb(255, 161, 161)' data-next='89.42%&nbsp;|&nbsp;day|' data-top0='89.42%&nbsp;|&nbsp;day|' data-top1='&nbsp;5.62%&nbsp;|&nbsp;night|' data-top2='&nbsp;3.03%&nbsp;|&nbsp;morning|'>&nbsp;day</div><div class='token' style='background-color: rgb(255, 172, 172)' data-next='78.44%&nbsp;|.\"|' data-top0='78.44%&nbsp;|.\"|' data-top1='10.84%&nbsp;|.|' data-top2='&nbsp;3.38%&nbsp;|&nbsp;and|'>.\"</div><div class='token' style='background-color: rgb(255, 210, 210); user-select: none' data-next='42.45%&nbsp;|\\n|' data-top0='42.45%&nbsp;|\\n|' data-top1='17.62%&nbsp;|&nbsp;Spot|' data-top2='&nbsp;9.75%&nbsp;|&nbsp;|'>\\n</div><br><div class='token' style='background-color: rgb(255, 155, 155); user-select: none' data-next='95.23%&nbsp;|\\n|' data-top0='95.23%&nbsp;|\\n|' data-top1='&nbsp;4.68%&nbsp;|<|endoftext|>|' data-top2='&nbsp;0.01%&nbsp;|The|'>\\n</div><br><div class='token' style='background-color: rgb(255, 254, 254)' data-next='&nbsp;0.81%&nbsp;|After|' data-top0='35.29%&nbsp;|K|' data-top1='12.44%&nbsp;|Spot|' data-top2='&nbsp;7.34%&nbsp;|One|'>After</div><div class='token' style='background-color: rgb(255, 222, 222)' data-next='31.32%&nbsp;|&nbsp;playing|' data-top0='31.32%&nbsp;|&nbsp;playing|' data-top1='&nbsp;9.78%&nbsp;|&nbsp;they|' data-top2='&nbsp;9.41%&nbsp;|&nbsp;a|'>&nbsp;playing</div><div class='token' style='background-color: rgb(255, 228, 228)' data-next='25.55%&nbsp;|&nbsp;with|' data-top0='41.78%&nbsp;|,|' data-top1='25.55%&nbsp;|&nbsp;with|' data-top2='&nbsp;8.37%&nbsp;|&nbsp;for|'>&nbsp;with</div><div class='token' style='background-color: rgb(255, 232, 232)' data-next='21.43%&nbsp;|&nbsp;the|' data-top0='48.43%&nbsp;|&nbsp;Spot|' data-top1='21.43%&nbsp;|&nbsp;the|' data-top2='&nbsp;6.03%&nbsp;|&nbsp;Kitty|'>&nbsp;the</div><div class='token' style='background-color: rgb(255, 221, 221)' data-next='32.36%&nbsp;|&nbsp;car|' data-top0='32.36%&nbsp;|&nbsp;car|' data-top1='&nbsp;8.99%&nbsp;|&nbsp;red|' data-top2='&nbsp;8.30%&nbsp;|&nbsp;new|'>&nbsp;car</div><div class='token' style='background-color: rgb(255, 152, 152)' data-next='97.24%&nbsp;|,|' data-top0='97.24%&nbsp;|,|' data-top1='&nbsp;0.40%&nbsp;|&nbsp;and|' data-top2='&nbsp;0.34%&nbsp;|&nbsp;to|'>,</div><div class='token' style='background-color: rgb(255, 216, 216)' data-next='36.45%&nbsp;|&nbsp;Kitty|' data-top0='36.45%&nbsp;|&nbsp;Kitty|' data-top1='33.31%&nbsp;|&nbsp;Spot|' data-top2='&nbsp;5.23%&nbsp;|&nbsp;they|'>&nbsp;Kitty</div><div class='token' style='background-color: rgb(255, 227, 227)' data-next='26.22%&nbsp;|&nbsp;and|' data-top0='26.22%&nbsp;|&nbsp;and|' data-top1='&nbsp;9.49%&nbsp;|&nbsp;went|' data-top2='&nbsp;5.56%&nbsp;|'s|'>&nbsp;and</div><div class='token' style='background-color: rgb(255, 220, 220)' data-next='32.69%&nbsp;|&nbsp;Spot|' data-top0='36.09%&nbsp;|&nbsp;Kitty|' data-top1='32.69%&nbsp;|&nbsp;Spot|' data-top2='13.55%&nbsp;|&nbsp;Dog|'>&nbsp;Spot</div><div class='token' style='background-color: rgb(255, 254, 254)' data-next='&nbsp;0.32%&nbsp;|&nbsp;felt|' data-top0='49.56%&nbsp;|&nbsp;went|' data-top1='21.01%&nbsp;|&nbsp;played|' data-top2='&nbsp;4.57%&nbsp;|&nbsp;were|'>&nbsp;felt</div><div class='token' style='background-color: rgb(255, 254, 254)' data-next='&nbsp;0.05%&nbsp;|&nbsp;thirsty|' data-top0='24.17%&nbsp;|&nbsp;happy|' data-top1='21.01%&nbsp;|&nbsp;very|' data-top2='&nbsp;9.89%&nbsp;|&nbsp;proud|'>&nbsp;thirsty</div><div class='token' style='background-color: rgb(255, 179, 179)' data-next='72.14%&nbsp;|.|' data-top0='72.14%&nbsp;|.|' data-top1='15.96%&nbsp;|&nbsp;and|' data-top2='&nbsp;3.96%&nbsp;|&nbsp;too|'>.</div><div class='token' style='background-color: rgb(255, 178, 178)' data-next='73.10%&nbsp;|&nbsp;They|' data-top0='73.10%&nbsp;|&nbsp;They|' data-top1='&nbsp;8.73%&nbsp;|&nbsp;She|' data-top2='&nbsp;6.73%&nbsp;|&nbsp;Spot|'>&nbsp;They</div><div class='token' style='background-color: rgb(255, 254, 254)' data-next='&nbsp;0.71%&nbsp;|&nbsp;found|' data-top0='20.35%&nbsp;|&nbsp;decided|' data-top1='18.55%&nbsp;|&nbsp;went|' data-top2='&nbsp;9.13%&nbsp;|&nbsp;sat|'>&nbsp;found</div><div class='token' style='background-color: rgb(255, 184, 184)' data-next='67.13%&nbsp;|&nbsp;a|' data-top0='67.13%&nbsp;|&nbsp;a|' data-top1='18.40%&nbsp;|&nbsp;some|' data-top2='&nbsp;5.31%&nbsp;|&nbsp;the|'>&nbsp;a</div><div class='token' style='background-color: rgb(255, 253, 253)' data-next='&nbsp;1.76%&nbsp;|&nbsp;small|' data-top0='23.86%&nbsp;|&nbsp;big|' data-top1='&nbsp;4.78%&nbsp;|&nbsp;new|' data-top2='&nbsp;2.65%&nbsp;|&nbsp;shiny|'>&nbsp;small</div><div class='token' style='background-color: rgb(255, 254, 254)' data-next='&nbsp;0.28%&nbsp;|&nbsp;pond|' data-top0='&nbsp;7.83%&nbsp;|&nbsp;bowl|' data-top1='&nbsp;7.02%&nbsp;|,|' data-top2='&nbsp;5.60%&nbsp;|&nbsp;box|'>&nbsp;pond</div><div class='token' style='background-color: rgb(255, 232, 232)' data-next='20.98%&nbsp;|&nbsp;with|' data-top0='47.08%&nbsp;|&nbsp;and|' data-top1='20.98%&nbsp;|&nbsp;with|' data-top2='&nbsp;5.47%&nbsp;|&nbsp;where|'>&nbsp;with</div><div class='token' style='background-color: rgb(255, 254, 254)' data-next='&nbsp;0.04%&nbsp;|&nbsp;clear|' data-top0='27.14%&nbsp;|&nbsp;a|' data-top1='26.56%&nbsp;|&nbsp;water|' data-top2='&nbsp;8.95%&nbsp;|&nbsp;some|'>&nbsp;clear</div><div class='token' style='background-color: rgb(255, 196, 196)' data-next='55.88%&nbsp;|&nbsp;water|' data-top0='55.88%&nbsp;|&nbsp;water|' data-top1='&nbsp;8.02%&nbsp;|&nbsp;grass|' data-top2='&nbsp;5.87%&nbsp;|&nbsp;leaves|'>&nbsp;water</div><div class='token' style='background-color: rgb(255, 220, 220)' data-next='32.92%&nbsp;|.|' data-top0='42.37%&nbsp;|&nbsp;and|' data-top1='32.92%&nbsp;|.|' data-top2='&nbsp;4.42%&nbsp;|&nbsp;that|'>.</div><div class='token' style='background-color: rgb(255, 231, 231)' data-next='22.73%&nbsp;|&nbsp;They|' data-top0='28.78%&nbsp;|&nbsp;Spot|' data-top1='22.73%&nbsp;|&nbsp;They|' data-top2='22.41%&nbsp;|&nbsp;Kitty|'>&nbsp;They</div><div class='token' style='background-color: rgb(255, 252, 252)' data-next='&nbsp;2.77%&nbsp;|&nbsp;drank|' data-top0='11.55%&nbsp;|&nbsp;put|' data-top1='&nbsp;7.59%&nbsp;|&nbsp;played|' data-top2='&nbsp;5.50%&nbsp;|&nbsp;decided|'>&nbsp;drank</div><div class='token' style='background-color: rgb(255, 235, 235)' data-next='18.16%&nbsp;|&nbsp;the|' data-top0='18.16%&nbsp;|&nbsp;the|' data-top1='16.89%&nbsp;|&nbsp;some|' data-top2='11.66%&nbsp;|&nbsp;and|'>&nbsp;the</div><div class='token' style='background-color: rgb(255, 165, 165)' data-next='85.58%&nbsp;|&nbsp;water|' data-top0='85.58%&nbsp;|&nbsp;water|' data-top1='&nbsp;2.55%&nbsp;|&nbsp;warm|' data-top2='&nbsp;1.00%&nbsp;|&nbsp;cool|'>&nbsp;water</div><div class='token' style='background-color: rgb(255, 170, 170)' data-next='80.62%&nbsp;|&nbsp;and|' data-top0='80.62%&nbsp;|&nbsp;and|' data-top1='&nbsp;5.74%&nbsp;|,|' data-top2='&nbsp;1.48%&nbsp;|&nbsp;from|'>&nbsp;and</div><div class='token' style='background-color: rgb(255, 251, 251)' data-next='&nbsp;2.91%&nbsp;|&nbsp;felt|' data-top0='12.93%&nbsp;|&nbsp;drank|' data-top1='&nbsp;9.56%&nbsp;|&nbsp;played|' data-top2='&nbsp;6.47%&nbsp;|&nbsp;went|'>&nbsp;felt</div><div class='token' style='background-color: rgb(255, 249, 249)' data-next='&nbsp;5.52%&nbsp;|&nbsp;very|' data-top0='23.35%&nbsp;|&nbsp;happy|' data-top1='12.73%&nbsp;|&nbsp;the|' data-top2='11.15%&nbsp;|&nbsp;warm|'>&nbsp;very</div><div class='token' style='background-color: rgb(255, 212, 212)' data-next='40.76%&nbsp;|&nbsp;happy|' data-top0='40.76%&nbsp;|&nbsp;happy|' data-top1='&nbsp;7.87%&nbsp;|&nbsp;warm|' data-top2='&nbsp;6.64%&nbsp;|&nbsp;good|'>&nbsp;happy</div><div class='token' style='background-color: rgb(255, 161, 161)' data-next='89.06%&nbsp;|.|' data-top0='89.06%&nbsp;|.|' data-top1='&nbsp;3.81%&nbsp;|&nbsp;and|' data-top2='&nbsp;1.09%&nbsp;|&nbsp;with|'>.</div><div class='token' style='background-color: rgb(255, 235, 235)' data-next='18.43%&nbsp;|&nbsp;They|' data-top0='22.79%&nbsp;|&nbsp;Kitty|' data-top1='21.70%&nbsp;|&nbsp;Spot|' data-top2='18.43%&nbsp;|&nbsp;They|'>&nbsp;They</div><div class='token' style='background-color: rgb(255, 229, 229)' data-next='24.62%&nbsp;|&nbsp;played|' data-top0='24.62%&nbsp;|&nbsp;played|' data-top1='&nbsp;7.94%&nbsp;|&nbsp;both|' data-top2='&nbsp;6.34%&nbsp;|&nbsp;had|'>&nbsp;played</div><div class='token' style='background-color: rgb(255, 240, 240)' data-next='14.18%&nbsp;|&nbsp;together|' data-top0='30.34%&nbsp;|&nbsp;with|' data-top1='23.27%&nbsp;|&nbsp;in|' data-top2='14.18%&nbsp;|&nbsp;together|'>&nbsp;together</div><div class='token' style='background-color: rgb(255, 224, 224)' data-next='29.30%&nbsp;|&nbsp;all|' data-top0='29.30%&nbsp;|&nbsp;all|' data-top1='23.71%&nbsp;|&nbsp;and|' data-top2='12.56%&nbsp;|&nbsp;for|'>&nbsp;all</div><div class='token' style='background-color: rgb(255, 152, 152)' data-next='97.25%&nbsp;|&nbsp;day|' data-top0='97.25%&nbsp;|&nbsp;day|' data-top1='&nbsp;1.14%&nbsp;|&nbsp;afternoon|' data-top2='&nbsp;0.61%&nbsp;|&nbsp;the|'>&nbsp;day</div><div class='token' style='background-color: rgb(255, 235, 235)' data-next='18.33%&nbsp;|&nbsp;and|' data-top0='29.94%&nbsp;|&nbsp;long|' data-top1='23.55%&nbsp;|.|' data-top2='18.66%&nbsp;|,|'>&nbsp;and</div><div class='token' style='background-color: rgb(255, 250, 250)' data-next='&nbsp;3.98%&nbsp;|&nbsp;became|' data-top0='51.38%&nbsp;|&nbsp;had|' data-top1='&nbsp;8.13%&nbsp;|&nbsp;enjoyed|' data-top2='&nbsp;4.91%&nbsp;|&nbsp;played|'>&nbsp;became</div><div class='token' style='background-color: rgb(255, 250, 250)' data-next='&nbsp;4.58%&nbsp;|&nbsp;best|' data-top0='73.88%&nbsp;|&nbsp;good|' data-top1='&nbsp;5.22%&nbsp;|&nbsp;a|' data-top2='&nbsp;4.58%&nbsp;|&nbsp;best|'>&nbsp;best</div><div class='token' style='background-color: rgb(255, 150, 150)' data-next='99.76%&nbsp;|&nbsp;friends|' data-top0='99.76%&nbsp;|&nbsp;friends|' data-top1='&nbsp;0.07%&nbsp;|&nbsp;of|' data-top2='&nbsp;0.04%&nbsp;|&nbsp;brothers|'>&nbsp;friends</div><div class='token' style='background-color: rgb(255, 153, 153)' data-next='96.37%&nbsp;|.|' data-top0='96.37%&nbsp;|.|' data-top1='&nbsp;1.06%&nbsp;|&nbsp;and|' data-top2='&nbsp;0.96%&nbsp;|!|'>.</div><div id='hover_info'>run the cell below</div>"
      ],
      "text/plain": [
       "<IPython.core.display.HTML object>"
      ]
     },
     "metadata": {},
     "output_type": "display_data"
    }
   ],
   "source": [
    "def to_tok_prob_str(tok, prob):\n",
    "    tok_str = tokenizer.decode(tok).replace(\" \", \"&nbsp;\").replace(\"\\n\", r\"\\n\")\n",
    "    prob_str = f\"{prob:.2%}\"\n",
    "    return f\"{prob_str:>6} |{tok_str}|\"\n",
    "\n",
    "def vis_sample_v3(sample_tok, correct_probs, top_k_probs):\n",
    "    colors = probs_to_colors(correct_probs)\n",
    "    token_htmls = []\n",
    "    for i in range(sample_tok.shape[0]):\n",
    "        tok = sample_tok[i]\n",
    "        data = {}\n",
    "        if i > 0:\n",
    "            correct_prob = correct_probs[i-1]\n",
    "            data[\"next\"] = to_tok_prob_str(tok, correct_prob)\n",
    "            top_k_probs_tokens = top_k_probs.indices[i-1]\n",
    "            top_k_probs_values = top_k_probs.values[i-1]\n",
    "            for j in range(top_k_probs_tokens.shape[0]):\n",
    "                top_tok = top_k_probs_tokens[j]\n",
    "                top_prob = top_k_probs_values[j]\n",
    "                data[f\"top{j}\"] = to_tok_prob_str(top_tok, top_prob)\n",
    "        token_htmls.append(token_to_html_v3(tok, bg_color=colors[i], data=data))\n",
    "    html_str = style_tag_with_hover + \"\".join(token_htmls) + \"<div id='hover_info'>run the cell below</div>\"\n",
    "    display(HTML(html_str))\n",
    "vis_sample_v3(sample_tok, correct_probs, top_k_probs)"
   ]
  },
  {
   "cell_type": "markdown",
   "metadata": {},
   "source": [
    "This cell defined JavsScript logic that will format data from the attributes on hover"
   ]
  },
  {
   "cell_type": "code",
   "execution_count": 25,
   "metadata": {},
   "outputs": [
    {
     "data": {
      "application/javascript": "var token_divs = document.querySelectorAll('.token');\nvar hover_info = document.getElementById('hover_info');\n\ntoken_divs.forEach(function(token_div) {\n    token_div.addEventListener('mousemove', function(e) {\n        hover_info.innerHTML = \"\"\n        for( var d in this.dataset) {\n            hover_info.innerHTML += \"<b>\" + d + \"</b> \";\n            hover_info.innerHTML += this.dataset[d] + \"<br>\";\n        }\n    });\n\n    token_div.addEventListener('mouseout', function(e) {\n        hover_info.innerHTML = \"\"\n    });\n});\n",
      "text/plain": [
       "<IPython.core.display.Javascript object>"
      ]
     },
     "metadata": {},
     "output_type": "display_data"
    }
   ],
   "source": [
    "%%js\n",
    "var token_divs = document.querySelectorAll('.token');\n",
    "var hover_info = document.getElementById('hover_info');\n",
    "\n",
    "token_divs.forEach(function(token_div) {\n",
    "    token_div.addEventListener('mousemove', function(e) {\n",
    "        hover_info.innerHTML = \"\"\n",
    "        for( var d in this.dataset) {\n",
    "            hover_info.innerHTML += \"<b>\" + d + \"</b> \";\n",
    "            hover_info.innerHTML += this.dataset[d] + \"<br>\";\n",
    "        }\n",
    "    });\n",
    "\n",
    "    token_div.addEventListener('mouseout', function(e) {\n",
    "        hover_info.innerHTML = \"\"\n",
    "    });\n",
    "});"
   ]
  }
 ],
 "metadata": {
  "kernelspec": {
   "display_name": ".venv",
   "language": "python",
   "name": "python3"
  },
  "language_info": {
   "codemirror_mode": {
    "name": "ipython",
    "version": 3
   },
   "file_extension": ".py",
   "mimetype": "text/x-python",
   "name": "python",
   "nbconvert_exporter": "python",
   "pygments_lexer": "ipython3",
   "version": "3.10.13"
  }
 },
 "nbformat": 4,
 "nbformat_minor": 2
}
